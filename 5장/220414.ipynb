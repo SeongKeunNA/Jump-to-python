{
 "cells": [
  {
   "cell_type": "markdown",
   "id": "b329f3d6",
   "metadata": {},
   "source": [
    "# 05-4 예외 처리"
   ]
  },
  {
   "cell_type": "markdown",
   "id": "05c309fd",
   "metadata": {},
   "source": [
    "### 1. 오류는 어떤 때 발생하는가?"
   ]
  },
  {
   "cell_type": "code",
   "execution_count": 1,
   "id": "d12b5f9b",
   "metadata": {},
   "outputs": [
    {
     "ename": "FileNotFoundError",
     "evalue": "[Errno 2] No such file or directory: '나없는파일'",
     "output_type": "error",
     "traceback": [
      "\u001b[1;31m---------------------------------------------------------------------------\u001b[0m",
      "\u001b[1;31mFileNotFoundError\u001b[0m                         Traceback (most recent call last)",
      "\u001b[1;32mC:\\Users\\NAJONG~1\\AppData\\Local\\Temp/ipykernel_16284/3925633801.py\u001b[0m in \u001b[0;36m<module>\u001b[1;34m\u001b[0m\n\u001b[1;32m----> 1\u001b[1;33m \u001b[0mf\u001b[0m \u001b[1;33m=\u001b[0m \u001b[0mopen\u001b[0m\u001b[1;33m(\u001b[0m\u001b[1;34m'나없는파일'\u001b[0m\u001b[1;33m,\u001b[0m \u001b[1;34m'r'\u001b[0m\u001b[1;33m)\u001b[0m\u001b[1;33m\u001b[0m\u001b[1;33m\u001b[0m\u001b[0m\n\u001b[0m",
      "\u001b[1;31mFileNotFoundError\u001b[0m: [Errno 2] No such file or directory: '나없는파일'"
     ]
    }
   ],
   "source": [
    "f = open('나없는파일', 'r')"
   ]
  },
  {
   "cell_type": "code",
   "execution_count": 2,
   "id": "182e3336",
   "metadata": {},
   "outputs": [
    {
     "ename": "ZeroDivisionError",
     "evalue": "division by zero",
     "output_type": "error",
     "traceback": [
      "\u001b[1;31m---------------------------------------------------------------------------\u001b[0m",
      "\u001b[1;31mZeroDivisionError\u001b[0m                         Traceback (most recent call last)",
      "\u001b[1;32mC:\\Users\\NAJONG~1\\AppData\\Local\\Temp/ipykernel_16284/2293179708.py\u001b[0m in \u001b[0;36m<module>\u001b[1;34m\u001b[0m\n\u001b[1;32m----> 1\u001b[1;33m \u001b[1;36m4\u001b[0m \u001b[1;33m/\u001b[0m \u001b[1;36m0\u001b[0m\u001b[1;33m\u001b[0m\u001b[1;33m\u001b[0m\u001b[0m\n\u001b[0m",
      "\u001b[1;31mZeroDivisionError\u001b[0m: division by zero"
     ]
    }
   ],
   "source": [
    "4 / 0"
   ]
  },
  {
   "cell_type": "code",
   "execution_count": 3,
   "id": "ab26a9e4",
   "metadata": {},
   "outputs": [
    {
     "ename": "IndexError",
     "evalue": "list index out of range",
     "output_type": "error",
     "traceback": [
      "\u001b[1;31m---------------------------------------------------------------------------\u001b[0m",
      "\u001b[1;31mIndexError\u001b[0m                                Traceback (most recent call last)",
      "\u001b[1;32mC:\\Users\\NAJONG~1\\AppData\\Local\\Temp/ipykernel_16284/571634228.py\u001b[0m in \u001b[0;36m<module>\u001b[1;34m\u001b[0m\n\u001b[0;32m      1\u001b[0m \u001b[0ma\u001b[0m \u001b[1;33m=\u001b[0m \u001b[1;33m[\u001b[0m\u001b[1;36m1\u001b[0m\u001b[1;33m,\u001b[0m\u001b[1;36m2\u001b[0m\u001b[1;33m,\u001b[0m\u001b[1;36m3\u001b[0m\u001b[1;33m]\u001b[0m\u001b[1;33m\u001b[0m\u001b[1;33m\u001b[0m\u001b[0m\n\u001b[1;32m----> 2\u001b[1;33m \u001b[0ma\u001b[0m\u001b[1;33m[\u001b[0m\u001b[1;36m4\u001b[0m\u001b[1;33m]\u001b[0m\u001b[1;33m\u001b[0m\u001b[1;33m\u001b[0m\u001b[0m\n\u001b[0m",
      "\u001b[1;31mIndexError\u001b[0m: list index out of range"
     ]
    }
   ],
   "source": [
    "a = [1,2,3]\n",
    "a[4]"
   ]
  },
  {
   "cell_type": "markdown",
   "id": "e22faccd",
   "metadata": {},
   "source": [
    "### 오류 예외 처리 기법-try, except"
   ]
  },
  {
   "cell_type": "markdown",
   "id": "fed6e4c3",
   "metadata": {},
   "source": [
    "1. 오류 종류 상관 x "
   ]
  },
  {
   "cell_type": "code",
   "execution_count": null,
   "id": "eec2da8c",
   "metadata": {},
   "outputs": [],
   "source": [
    "try:\n",
    "    ...\n",
    "except:\n",
    "    ..."
   ]
  },
  {
   "cell_type": "markdown",
   "id": "25522e62",
   "metadata": {},
   "source": [
    "2. 발생 오류만 포함한 except문"
   ]
  },
  {
   "cell_type": "code",
   "execution_count": null,
   "id": "001e479b",
   "metadata": {},
   "outputs": [],
   "source": [
    "try:\n",
    "    ...\n",
    "except 발생 오류:\n",
    "    ..."
   ]
  },
  {
   "cell_type": "markdown",
   "id": "5a1f0315",
   "metadata": {},
   "source": [
    "3. 발생 오류와 오류 메시지 변수까지 포함한 except문"
   ]
  },
  {
   "cell_type": "code",
   "execution_count": null,
   "id": "f0e7aa9b",
   "metadata": {},
   "outputs": [],
   "source": [
    "try:\n",
    "    ...\n",
    "except 발생 오류 as 오류 메시지 변수:\n",
    "    ..."
   ]
  },
  {
   "cell_type": "markdown",
   "id": "8590d24b",
   "metadata": {},
   "source": [
    "ex)"
   ]
  },
  {
   "cell_type": "code",
   "execution_count": 6,
   "id": "14ca8368",
   "metadata": {},
   "outputs": [
    {
     "name": "stdout",
     "output_type": "stream",
     "text": [
      "division by zero\n"
     ]
    }
   ],
   "source": [
    "try:\n",
    "    4 / 0\n",
    "except ZeroDivisionError as e:\n",
    "    print(e)"
   ]
  },
  {
   "cell_type": "markdown",
   "id": "8ecf0054",
   "metadata": {},
   "source": [
    "### 오류 예외 처리 기법-try, finally"
   ]
  },
  {
   "cell_type": "code",
   "execution_count": 7,
   "id": "7cd18e30",
   "metadata": {},
   "outputs": [
    {
     "ename": "IndentationError",
     "evalue": "expected an indented block (Temp/ipykernel_16284/3301542446.py, line 4)",
     "output_type": "error",
     "traceback": [
      "\u001b[1;36m  File \u001b[1;32m\"C:\\Users\\NAJONG~1\\AppData\\Local\\Temp/ipykernel_16284/3301542446.py\"\u001b[1;36m, line \u001b[1;32m4\u001b[0m\n\u001b[1;33m    finally:\u001b[0m\n\u001b[1;37m    ^\u001b[0m\n\u001b[1;31mIndentationError\u001b[0m\u001b[1;31m:\u001b[0m expected an indented block\n"
     ]
    }
   ],
   "source": [
    "f = open('foo.txt', 'w')\n",
    "try:\n",
    "    # 무언가를 수행한다.\n",
    "finally:\n",
    "    f.close() # 예외 발생 여부와 상관없이 무조건 실행"
   ]
  },
  {
   "cell_type": "markdown",
   "id": "7f4858f8",
   "metadata": {},
   "source": [
    "### 여러개의 오류처리하기"
   ]
  },
  {
   "cell_type": "code",
   "execution_count": null,
   "id": "6af8f40e",
   "metadata": {},
   "outputs": [],
   "source": [
    "try:\n",
    "    ...\n",
    "except 발생 오류1:\n",
    "    ...\n",
    "except 발생 오류2:\n",
    "    ..."
   ]
  },
  {
   "cell_type": "code",
   "execution_count": 8,
   "id": "44403a42",
   "metadata": {},
   "outputs": [
    {
     "name": "stdout",
     "output_type": "stream",
     "text": [
      "인덱싱 할 수 없습니다.\n"
     ]
    }
   ],
   "source": [
    "try:\n",
    "    a = [1,2,3]\n",
    "    print(a[3])\n",
    "    4/0\n",
    "except ZeroDivisionError:\n",
    "    print('0으로 나눌 수 없습니다.')\n",
    "except IndexError:\n",
    "    print('인덱싱 할 수 없습니다.')"
   ]
  },
  {
   "cell_type": "code",
   "execution_count": 10,
   "id": "8a8e054e",
   "metadata": {},
   "outputs": [
    {
     "name": "stdout",
     "output_type": "stream",
     "text": [
      "list index out of range\n"
     ]
    }
   ],
   "source": [
    "try:\n",
    "    a = [1,2,3]\n",
    "    print(a[3])\n",
    "    4/0\n",
    "except ZeroDivisionError as e:\n",
    "    print(e)\n",
    "except IndexError as e:\n",
    "    print(e)"
   ]
  },
  {
   "cell_type": "code",
   "execution_count": 11,
   "id": "ba52509f",
   "metadata": {},
   "outputs": [
    {
     "name": "stdout",
     "output_type": "stream",
     "text": [
      "list index out of range\n"
     ]
    }
   ],
   "source": [
    "try:\n",
    "    a = [1,2]\n",
    "    print(a[3])\n",
    "    4 / 0\n",
    "except(ZeroDivisionError, IndexError) as e:\n",
    "    print(e)"
   ]
  },
  {
   "cell_type": "markdown",
   "id": "a985aeff",
   "metadata": {},
   "source": [
    "### try문에 else절 사용하기"
   ]
  },
  {
   "cell_type": "markdown",
   "id": "b05ef46a",
   "metadata": {},
   "source": [
    "try문 수행 중 오류가 발생하면 except절이, 오류가 없으면 else절이 수행됨."
   ]
  },
  {
   "cell_type": "code",
   "execution_count": 14,
   "id": "2ac3b599",
   "metadata": {},
   "outputs": [
    {
     "name": "stdout",
     "output_type": "stream",
     "text": [
      "나이를 입력하세요: 20\n",
      "환영합니다.\n"
     ]
    }
   ],
   "source": [
    "try:\n",
    "    age = int(input('나이를 입력하세요: '))\n",
    "except:\n",
    "    print('입력이 정확하지 않습니다.')\n",
    "else:\n",
    "    if age <= 18:\n",
    "        print('미성년자는 출입금지입니다.')\n",
    "    else:\n",
    "        print('환영합니다.')"
   ]
  },
  {
   "cell_type": "markdown",
   "id": "0d9c8772",
   "metadata": {},
   "source": [
    "### 오류 회피하기"
   ]
  },
  {
   "cell_type": "code",
   "execution_count": 15,
   "id": "c4d19323",
   "metadata": {},
   "outputs": [],
   "source": [
    "try:\n",
    "    f = open('나없는파일', 'r')\n",
    "except:\n",
    "    pass"
   ]
  },
  {
   "cell_type": "markdown",
   "id": "a4cbc31d",
   "metadata": {},
   "source": [
    "### 오류 일부러 발생시키기"
   ]
  },
  {
   "cell_type": "code",
   "execution_count": 17,
   "id": "bd91ccbc",
   "metadata": {},
   "outputs": [],
   "source": [
    "class Bird:\n",
    "    def fly(self):\n",
    "        raise NotImplementedError"
   ]
  },
  {
   "cell_type": "markdown",
   "id": "e785028d",
   "metadata": {},
   "source": [
    "NotImplementedError: 파이썬 내장 오류로, 꼭 작성해야 하는 부분이 구현되지 않았을 경우 일부러 오류를 일으키기 위해 사용"
   ]
  },
  {
   "cell_type": "code",
   "execution_count": 19,
   "id": "c8b5db1a",
   "metadata": {},
   "outputs": [
    {
     "ename": "NotImplementedError",
     "evalue": "",
     "output_type": "error",
     "traceback": [
      "\u001b[1;31m---------------------------------------------------------------------------\u001b[0m",
      "\u001b[1;31mNotImplementedError\u001b[0m                       Traceback (most recent call last)",
      "\u001b[1;32mC:\\Users\\NAJONG~1\\AppData\\Local\\Temp/ipykernel_16284/3130553048.py\u001b[0m in \u001b[0;36m<module>\u001b[1;34m\u001b[0m\n\u001b[0;32m      2\u001b[0m     \u001b[1;32mpass\u001b[0m\u001b[1;33m\u001b[0m\u001b[1;33m\u001b[0m\u001b[0m\n\u001b[0;32m      3\u001b[0m \u001b[0meagle\u001b[0m \u001b[1;33m=\u001b[0m \u001b[0mEagle\u001b[0m\u001b[1;33m(\u001b[0m\u001b[1;33m)\u001b[0m\u001b[1;33m\u001b[0m\u001b[1;33m\u001b[0m\u001b[0m\n\u001b[1;32m----> 4\u001b[1;33m \u001b[0meagle\u001b[0m\u001b[1;33m.\u001b[0m\u001b[0mfly\u001b[0m\u001b[1;33m(\u001b[0m\u001b[1;33m)\u001b[0m\u001b[1;33m\u001b[0m\u001b[1;33m\u001b[0m\u001b[0m\n\u001b[0m",
      "\u001b[1;32mC:\\Users\\NAJONG~1\\AppData\\Local\\Temp/ipykernel_16284/1842962673.py\u001b[0m in \u001b[0;36mfly\u001b[1;34m(self)\u001b[0m\n\u001b[0;32m      1\u001b[0m \u001b[1;32mclass\u001b[0m \u001b[0mBird\u001b[0m\u001b[1;33m:\u001b[0m\u001b[1;33m\u001b[0m\u001b[1;33m\u001b[0m\u001b[0m\n\u001b[0;32m      2\u001b[0m     \u001b[1;32mdef\u001b[0m \u001b[0mfly\u001b[0m\u001b[1;33m(\u001b[0m\u001b[0mself\u001b[0m\u001b[1;33m)\u001b[0m\u001b[1;33m:\u001b[0m\u001b[1;33m\u001b[0m\u001b[1;33m\u001b[0m\u001b[0m\n\u001b[1;32m----> 3\u001b[1;33m         \u001b[1;32mraise\u001b[0m \u001b[0mNotImplementedError\u001b[0m\u001b[1;33m\u001b[0m\u001b[1;33m\u001b[0m\u001b[0m\n\u001b[0m",
      "\u001b[1;31mNotImplementedError\u001b[0m: "
     ]
    }
   ],
   "source": [
    "class Eagle(Bird):\n",
    "    pass\n",
    "eagle = Eagle()\n",
    "eagle.fly()"
   ]
  },
  {
   "cell_type": "code",
   "execution_count": 20,
   "id": "2ca6dcaa",
   "metadata": {},
   "outputs": [
    {
     "name": "stdout",
     "output_type": "stream",
     "text": [
      "very fast\n"
     ]
    }
   ],
   "source": [
    "class Eagle(Bird):\n",
    "    def fly(self):\n",
    "        print('very fast')\n",
    "eagle = Eagle()\n",
    "eagle.fly()"
   ]
  },
  {
   "cell_type": "markdown",
   "id": "cdb2be7a",
   "metadata": {},
   "source": [
    "### 예외 만들기"
   ]
  },
  {
   "cell_type": "code",
   "execution_count": 26,
   "id": "9408b752",
   "metadata": {},
   "outputs": [],
   "source": [
    "class MyError(Exception):\n",
    "    pass"
   ]
  },
  {
   "cell_type": "code",
   "execution_count": 22,
   "id": "51d46515",
   "metadata": {},
   "outputs": [],
   "source": [
    "def say_nick(nick):\n",
    "    if nick == '바보':\n",
    "        raise MyError()\n",
    "    print(nick)"
   ]
  },
  {
   "cell_type": "code",
   "execution_count": 23,
   "id": "03d20e4a",
   "metadata": {},
   "outputs": [
    {
     "name": "stdout",
     "output_type": "stream",
     "text": [
      "천사\n"
     ]
    }
   ],
   "source": [
    "say_nick('천사')"
   ]
  },
  {
   "cell_type": "code",
   "execution_count": 24,
   "id": "6d145c8c",
   "metadata": {
    "scrolled": true
   },
   "outputs": [
    {
     "ename": "NameError",
     "evalue": "name 'MyError' is not defined",
     "output_type": "error",
     "traceback": [
      "\u001b[1;31m---------------------------------------------------------------------------\u001b[0m",
      "\u001b[1;31mNameError\u001b[0m                                 Traceback (most recent call last)",
      "\u001b[1;32mC:\\Users\\NAJONG~1\\AppData\\Local\\Temp/ipykernel_16284/3531279421.py\u001b[0m in \u001b[0;36m<module>\u001b[1;34m\u001b[0m\n\u001b[1;32m----> 1\u001b[1;33m \u001b[0msay_nick\u001b[0m\u001b[1;33m(\u001b[0m\u001b[1;34m'바보'\u001b[0m\u001b[1;33m)\u001b[0m\u001b[1;33m\u001b[0m\u001b[1;33m\u001b[0m\u001b[0m\n\u001b[0m",
      "\u001b[1;32mC:\\Users\\NAJONG~1\\AppData\\Local\\Temp/ipykernel_16284/1570661623.py\u001b[0m in \u001b[0;36msay_nick\u001b[1;34m(nick)\u001b[0m\n\u001b[0;32m      1\u001b[0m \u001b[1;32mdef\u001b[0m \u001b[0msay_nick\u001b[0m\u001b[1;33m(\u001b[0m\u001b[0mnick\u001b[0m\u001b[1;33m)\u001b[0m\u001b[1;33m:\u001b[0m\u001b[1;33m\u001b[0m\u001b[1;33m\u001b[0m\u001b[0m\n\u001b[0;32m      2\u001b[0m     \u001b[1;32mif\u001b[0m \u001b[0mnick\u001b[0m \u001b[1;33m==\u001b[0m \u001b[1;34m'바보'\u001b[0m\u001b[1;33m:\u001b[0m\u001b[1;33m\u001b[0m\u001b[1;33m\u001b[0m\u001b[0m\n\u001b[1;32m----> 3\u001b[1;33m         \u001b[1;32mraise\u001b[0m \u001b[0mMyError\u001b[0m\u001b[1;33m(\u001b[0m\u001b[1;33m)\u001b[0m\u001b[1;33m\u001b[0m\u001b[1;33m\u001b[0m\u001b[0m\n\u001b[0m\u001b[0;32m      4\u001b[0m     \u001b[0mprint\u001b[0m\u001b[1;33m(\u001b[0m\u001b[0mnick\u001b[0m\u001b[1;33m)\u001b[0m\u001b[1;33m\u001b[0m\u001b[1;33m\u001b[0m\u001b[0m\n",
      "\u001b[1;31mNameError\u001b[0m: name 'MyError' is not defined"
     ]
    }
   ],
   "source": [
    "say_nick('바보')"
   ]
  },
  {
   "cell_type": "code",
   "execution_count": 27,
   "id": "ef8c28f6",
   "metadata": {},
   "outputs": [
    {
     "name": "stdout",
     "output_type": "stream",
     "text": [
      "천사\n",
      "허용되지 않는 별명입니다.\n"
     ]
    }
   ],
   "source": [
    "try:\n",
    "    say_nick('천사')\n",
    "    say_nick('바보')\n",
    "except MyError:\n",
    "    print('허용되지 않는 별명입니다.')"
   ]
  },
  {
   "cell_type": "code",
   "execution_count": 29,
   "id": "cd75b33b",
   "metadata": {},
   "outputs": [
    {
     "name": "stdout",
     "output_type": "stream",
     "text": [
      "천사\n",
      "\n"
     ]
    }
   ],
   "source": [
    "try:\n",
    "    say_nick('천사')\n",
    "    say_nick('바보')\n",
    "except MyError as e:\n",
    "    print(e)"
   ]
  },
  {
   "cell_type": "code",
   "execution_count": 30,
   "id": "063622e6",
   "metadata": {},
   "outputs": [],
   "source": [
    "class MyError(Exception):\n",
    "    def __str__(self):\n",
    "        return '허용되지 않는 별명입니다.'"
   ]
  },
  {
   "cell_type": "code",
   "execution_count": 31,
   "id": "834cc0e2",
   "metadata": {},
   "outputs": [
    {
     "name": "stdout",
     "output_type": "stream",
     "text": [
      "천사\n",
      "허용되지 않는 별명입니다.\n"
     ]
    }
   ],
   "source": [
    "try:\n",
    "    say_nick('천사')\n",
    "    say_nick('바보')\n",
    "except MyError as e:\n",
    "    print(e)"
   ]
  },
  {
   "cell_type": "markdown",
   "id": "f3fb70ee",
   "metadata": {},
   "source": [
    "# 05-5 내장 함수"
   ]
  },
  {
   "cell_type": "markdown",
   "id": "a07c8999",
   "metadata": {},
   "source": [
    "### abs: 절댓값"
   ]
  },
  {
   "cell_type": "markdown",
   "id": "4aa3e90e",
   "metadata": {},
   "source": [
    "### all: 반복 가능한 자료형 x를 입력 인수로 받으며 이 x의 요소가 모두 참이면 True, 거짓이 하나라도 있으면 False"
   ]
  },
  {
   "cell_type": "code",
   "execution_count": 32,
   "id": "22789c94",
   "metadata": {},
   "outputs": [
    {
     "data": {
      "text/plain": [
       "True"
      ]
     },
     "execution_count": 32,
     "metadata": {},
     "output_type": "execute_result"
    }
   ],
   "source": [
    "all([1,2,3])"
   ]
  },
  {
   "cell_type": "code",
   "execution_count": 35,
   "id": "8e1130bb",
   "metadata": {},
   "outputs": [
    {
     "data": {
      "text/plain": [
       "False"
      ]
     },
     "execution_count": 35,
     "metadata": {},
     "output_type": "execute_result"
    }
   ],
   "source": [
    "all([1,2,0])"
   ]
  },
  {
   "cell_type": "code",
   "execution_count": 36,
   "id": "a82f5c35",
   "metadata": {},
   "outputs": [
    {
     "data": {
      "text/plain": [
       "False"
      ]
     },
     "execution_count": 36,
     "metadata": {},
     "output_type": "execute_result"
    }
   ],
   "source": [
    "all((1,2,0))"
   ]
  },
  {
   "cell_type": "code",
   "execution_count": 38,
   "id": "bd15c95f",
   "metadata": {},
   "outputs": [
    {
     "data": {
      "text/plain": [
       "True"
      ]
     },
     "execution_count": 38,
     "metadata": {},
     "output_type": "execute_result"
    }
   ],
   "source": [
    "all(())"
   ]
  },
  {
   "cell_type": "markdown",
   "id": "5a478e07",
   "metadata": {},
   "source": [
    "### any: 반복 가능한 자료형 x를 입력 인수로 받으며 이 x의 요소 중 하나라도 참이 있으면 True, 모두 거짓일 때만 False"
   ]
  },
  {
   "cell_type": "code",
   "execution_count": 39,
   "id": "ecb91b97",
   "metadata": {},
   "outputs": [
    {
     "data": {
      "text/plain": [
       "True"
      ]
     },
     "execution_count": 39,
     "metadata": {},
     "output_type": "execute_result"
    }
   ],
   "source": [
    "any((1,2,3,0))"
   ]
  },
  {
   "cell_type": "code",
   "execution_count": 40,
   "id": "800f42bd",
   "metadata": {},
   "outputs": [
    {
     "data": {
      "text/plain": [
       "False"
      ]
     },
     "execution_count": 40,
     "metadata": {},
     "output_type": "execute_result"
    }
   ],
   "source": [
    "any((0,\"\"))"
   ]
  },
  {
   "cell_type": "code",
   "execution_count": 41,
   "id": "2f6ff2ee",
   "metadata": {},
   "outputs": [
    {
     "data": {
      "text/plain": [
       "False"
      ]
     },
     "execution_count": 41,
     "metadata": {},
     "output_type": "execute_result"
    }
   ],
   "source": [
    "any(())"
   ]
  },
  {
   "cell_type": "markdown",
   "id": "fb2126a4",
   "metadata": {},
   "source": [
    "### chr: 유니코드 값을 입력받아 그 코드에 해당하는 문자 출력"
   ]
  },
  {
   "cell_type": "code",
   "execution_count": 42,
   "id": "73e4b6bf",
   "metadata": {},
   "outputs": [
    {
     "data": {
      "text/plain": [
       "'a'"
      ]
     },
     "execution_count": 42,
     "metadata": {},
     "output_type": "execute_result"
    }
   ],
   "source": [
    "chr(97)"
   ]
  },
  {
   "cell_type": "code",
   "execution_count": 43,
   "id": "79e2e54e",
   "metadata": {},
   "outputs": [
    {
     "data": {
      "text/plain": [
       "'A'"
      ]
     },
     "execution_count": 43,
     "metadata": {},
     "output_type": "execute_result"
    }
   ],
   "source": [
    "chr(65)"
   ]
  },
  {
   "cell_type": "code",
   "execution_count": 44,
   "id": "01615324",
   "metadata": {},
   "outputs": [
    {
     "data": {
      "text/plain": [
       "'가'"
      ]
     },
     "execution_count": 44,
     "metadata": {},
     "output_type": "execute_result"
    }
   ],
   "source": [
    "chr(44032)"
   ]
  },
  {
   "cell_type": "markdown",
   "id": "b1a8aa19",
   "metadata": {},
   "source": [
    "### dir: 객체가 자체적으로 가지고 있는 변수나 함수를 보여줌"
   ]
  },
  {
   "cell_type": "code",
   "execution_count": 45,
   "id": "833c62f0",
   "metadata": {},
   "outputs": [
    {
     "data": {
      "text/plain": [
       "['__add__',\n",
       " '__class__',\n",
       " '__class_getitem__',\n",
       " '__contains__',\n",
       " '__delattr__',\n",
       " '__delitem__',\n",
       " '__dir__',\n",
       " '__doc__',\n",
       " '__eq__',\n",
       " '__format__',\n",
       " '__ge__',\n",
       " '__getattribute__',\n",
       " '__getitem__',\n",
       " '__gt__',\n",
       " '__hash__',\n",
       " '__iadd__',\n",
       " '__imul__',\n",
       " '__init__',\n",
       " '__init_subclass__',\n",
       " '__iter__',\n",
       " '__le__',\n",
       " '__len__',\n",
       " '__lt__',\n",
       " '__mul__',\n",
       " '__ne__',\n",
       " '__new__',\n",
       " '__reduce__',\n",
       " '__reduce_ex__',\n",
       " '__repr__',\n",
       " '__reversed__',\n",
       " '__rmul__',\n",
       " '__setattr__',\n",
       " '__setitem__',\n",
       " '__sizeof__',\n",
       " '__str__',\n",
       " '__subclasshook__',\n",
       " 'append',\n",
       " 'clear',\n",
       " 'copy',\n",
       " 'count',\n",
       " 'extend',\n",
       " 'index',\n",
       " 'insert',\n",
       " 'pop',\n",
       " 'remove',\n",
       " 'reverse',\n",
       " 'sort']"
      ]
     },
     "execution_count": 45,
     "metadata": {},
     "output_type": "execute_result"
    }
   ],
   "source": [
    "dir([1,2,3])"
   ]
  },
  {
   "cell_type": "code",
   "execution_count": 46,
   "id": "d4710837",
   "metadata": {},
   "outputs": [
    {
     "data": {
      "text/plain": [
       "['__class__',\n",
       " '__class_getitem__',\n",
       " '__contains__',\n",
       " '__delattr__',\n",
       " '__delitem__',\n",
       " '__dir__',\n",
       " '__doc__',\n",
       " '__eq__',\n",
       " '__format__',\n",
       " '__ge__',\n",
       " '__getattribute__',\n",
       " '__getitem__',\n",
       " '__gt__',\n",
       " '__hash__',\n",
       " '__init__',\n",
       " '__init_subclass__',\n",
       " '__ior__',\n",
       " '__iter__',\n",
       " '__le__',\n",
       " '__len__',\n",
       " '__lt__',\n",
       " '__ne__',\n",
       " '__new__',\n",
       " '__or__',\n",
       " '__reduce__',\n",
       " '__reduce_ex__',\n",
       " '__repr__',\n",
       " '__reversed__',\n",
       " '__ror__',\n",
       " '__setattr__',\n",
       " '__setitem__',\n",
       " '__sizeof__',\n",
       " '__str__',\n",
       " '__subclasshook__',\n",
       " 'clear',\n",
       " 'copy',\n",
       " 'fromkeys',\n",
       " 'get',\n",
       " 'items',\n",
       " 'keys',\n",
       " 'pop',\n",
       " 'popitem',\n",
       " 'setdefault',\n",
       " 'update',\n",
       " 'values']"
      ]
     },
     "execution_count": 46,
     "metadata": {},
     "output_type": "execute_result"
    }
   ],
   "source": [
    "dir({'1':'a'})"
   ]
  },
  {
   "cell_type": "code",
   "execution_count": 48,
   "id": "f3e7aa9a",
   "metadata": {},
   "outputs": [
    {
     "data": {
      "text/plain": [
       "['__and__',\n",
       " '__class__',\n",
       " '__class_getitem__',\n",
       " '__contains__',\n",
       " '__delattr__',\n",
       " '__dir__',\n",
       " '__doc__',\n",
       " '__eq__',\n",
       " '__format__',\n",
       " '__ge__',\n",
       " '__getattribute__',\n",
       " '__gt__',\n",
       " '__hash__',\n",
       " '__iand__',\n",
       " '__init__',\n",
       " '__init_subclass__',\n",
       " '__ior__',\n",
       " '__isub__',\n",
       " '__iter__',\n",
       " '__ixor__',\n",
       " '__le__',\n",
       " '__len__',\n",
       " '__lt__',\n",
       " '__ne__',\n",
       " '__new__',\n",
       " '__or__',\n",
       " '__rand__',\n",
       " '__reduce__',\n",
       " '__reduce_ex__',\n",
       " '__repr__',\n",
       " '__ror__',\n",
       " '__rsub__',\n",
       " '__rxor__',\n",
       " '__setattr__',\n",
       " '__sizeof__',\n",
       " '__str__',\n",
       " '__sub__',\n",
       " '__subclasshook__',\n",
       " '__xor__',\n",
       " 'add',\n",
       " 'clear',\n",
       " 'copy',\n",
       " 'difference',\n",
       " 'difference_update',\n",
       " 'discard',\n",
       " 'intersection',\n",
       " 'intersection_update',\n",
       " 'isdisjoint',\n",
       " 'issubset',\n",
       " 'issuperset',\n",
       " 'pop',\n",
       " 'remove',\n",
       " 'symmetric_difference',\n",
       " 'symmetric_difference_update',\n",
       " 'union',\n",
       " 'update']"
      ]
     },
     "execution_count": 48,
     "metadata": {},
     "output_type": "execute_result"
    }
   ],
   "source": [
    "dir({0,1})"
   ]
  },
  {
   "cell_type": "markdown",
   "id": "4433574a",
   "metadata": {},
   "source": [
    "### enumerate"
   ]
  },
  {
   "cell_type": "markdown",
   "id": "de61d960",
   "metadata": {},
   "source": [
    "### eval: 실행 가능한 문자열을 입력으로 받아 문자열을 실행한 결과값을 돌려줌"
   ]
  },
  {
   "cell_type": "code",
   "execution_count": 49,
   "id": "c452723b",
   "metadata": {},
   "outputs": [
    {
     "data": {
      "text/plain": [
       "3"
      ]
     },
     "execution_count": 49,
     "metadata": {},
     "output_type": "execute_result"
    }
   ],
   "source": [
    "eval('1+2')"
   ]
  },
  {
   "cell_type": "code",
   "execution_count": 53,
   "id": "71e9d8fc",
   "metadata": {},
   "outputs": [
    {
     "data": {
      "text/plain": [
       "'hia'"
      ]
     },
     "execution_count": 53,
     "metadata": {},
     "output_type": "execute_result"
    }
   ],
   "source": [
    "eval(\"'hi'+'a'\")"
   ]
  },
  {
   "cell_type": "code",
   "execution_count": 54,
   "id": "1711a78b",
   "metadata": {},
   "outputs": [
    {
     "data": {
      "text/plain": [
       "(1, 1)"
      ]
     },
     "execution_count": 54,
     "metadata": {},
     "output_type": "execute_result"
    }
   ],
   "source": [
    "eval('divmod(4, 3)')"
   ]
  },
  {
   "cell_type": "markdown",
   "id": "d7f3dfba",
   "metadata": {},
   "source": [
    "### filter "
   ]
  },
  {
   "cell_type": "markdown",
   "id": "5c6bdd89",
   "metadata": {},
   "source": [
    "첫 번쨰 인수로 함수 이름을, 두 번쨰 인수로 그 함수에 차례로 들어갈 반복 가능한 자료형 받는다.\n",
    "그리고 두 번째 인수인 반복 가능한 자료형 요소가 첫 번째 인수인 함수에 입력되었을 때 반환 값이 참인 것만 묶어서(걸러 내서) 돌려준다."
   ]
  },
  {
   "cell_type": "code",
   "execution_count": 55,
   "id": "e90d122a",
   "metadata": {},
   "outputs": [
    {
     "name": "stdout",
     "output_type": "stream",
     "text": [
      "[1, 2, 6]\n"
     ]
    }
   ],
   "source": [
    "def positive(l):\n",
    "    result = []\n",
    "    for i in l:\n",
    "        if i > 0:\n",
    "            result.append(i)\n",
    "    return result\n",
    "print(positive([1,-3,2,0,-5,6]))"
   ]
  },
  {
   "cell_type": "code",
   "execution_count": 56,
   "id": "103a8c2f",
   "metadata": {},
   "outputs": [
    {
     "name": "stdout",
     "output_type": "stream",
     "text": [
      "[1, 2, 6]\n"
     ]
    }
   ],
   "source": [
    "def positive(x):\n",
    "    return x > 0\n",
    "print(list(filter(positive, [1,-3,2,0,-5,6])))"
   ]
  },
  {
   "cell_type": "code",
   "execution_count": 57,
   "id": "cbc41892",
   "metadata": {},
   "outputs": [
    {
     "name": "stdout",
     "output_type": "stream",
     "text": [
      "<filter object at 0x000001EC477142B0>\n"
     ]
    }
   ],
   "source": [
    "def positive(x):\n",
    "    return x > 0\n",
    "print(filter(positive, [1,-3,2,0,-5,6]))"
   ]
  },
  {
   "cell_type": "code",
   "execution_count": 59,
   "id": "9e6d3cb5",
   "metadata": {},
   "outputs": [
    {
     "data": {
      "text/plain": [
       "[1, 2, 6]"
      ]
     },
     "execution_count": 59,
     "metadata": {},
     "output_type": "execute_result"
    }
   ],
   "source": [
    "list(filter(lambda x: x >0, [1,-3,2,0,-5,6]))"
   ]
  },
  {
   "cell_type": "markdown",
   "id": "01f443f1",
   "metadata": {},
   "source": [
    "### hex: 정수 값을 입력받아 16진수로 변환"
   ]
  },
  {
   "cell_type": "code",
   "execution_count": 60,
   "id": "a675c744",
   "metadata": {},
   "outputs": [
    {
     "data": {
      "text/plain": [
       "'0xea'"
      ]
     },
     "execution_count": 60,
     "metadata": {},
     "output_type": "execute_result"
    }
   ],
   "source": [
    "hex(234)"
   ]
  },
  {
   "cell_type": "code",
   "execution_count": 61,
   "id": "0d07bc0f",
   "metadata": {},
   "outputs": [
    {
     "data": {
      "text/plain": [
       "'0x3'"
      ]
     },
     "execution_count": 61,
     "metadata": {},
     "output_type": "execute_result"
    }
   ],
   "source": [
    "hex(3)"
   ]
  },
  {
   "cell_type": "markdown",
   "id": "c4169688",
   "metadata": {},
   "source": [
    "### id: 객체를 입력받아 객체의 고유 주소 값(레퍼런스)를 돌려줌"
   ]
  },
  {
   "cell_type": "code",
   "execution_count": 63,
   "id": "68071328",
   "metadata": {},
   "outputs": [
    {
     "data": {
      "text/plain": [
       "2113662052720"
      ]
     },
     "execution_count": 63,
     "metadata": {},
     "output_type": "execute_result"
    }
   ],
   "source": [
    "a = 3\n",
    "id(3)"
   ]
  },
  {
   "cell_type": "code",
   "execution_count": 64,
   "id": "5159c484",
   "metadata": {},
   "outputs": [
    {
     "data": {
      "text/plain": [
       "2113662052720"
      ]
     },
     "execution_count": 64,
     "metadata": {},
     "output_type": "execute_result"
    }
   ],
   "source": [
    "id(a)"
   ]
  },
  {
   "cell_type": "code",
   "execution_count": 65,
   "id": "b34aba71",
   "metadata": {},
   "outputs": [],
   "source": [
    "b = a"
   ]
  },
  {
   "cell_type": "code",
   "execution_count": 66,
   "id": "135d5d89",
   "metadata": {},
   "outputs": [
    {
     "data": {
      "text/plain": [
       "2113662052720"
      ]
     },
     "execution_count": 66,
     "metadata": {},
     "output_type": "execute_result"
    }
   ],
   "source": [
    "id(b)"
   ]
  },
  {
   "cell_type": "code",
   "execution_count": 67,
   "id": "145067f4",
   "metadata": {},
   "outputs": [
    {
     "data": {
      "text/plain": [
       "2113662052752"
      ]
     },
     "execution_count": 67,
     "metadata": {},
     "output_type": "execute_result"
    }
   ],
   "source": [
    "id(4)"
   ]
  },
  {
   "cell_type": "markdown",
   "id": "9f60d671",
   "metadata": {},
   "source": [
    "### input: 사용자 입력 받음"
   ]
  },
  {
   "cell_type": "markdown",
   "id": "e9a78f47",
   "metadata": {},
   "source": [
    "### int(x,radix): radix 진수로 표현된 문자열 x를 10진수로 변환함"
   ]
  },
  {
   "cell_type": "code",
   "execution_count": 68,
   "id": "05ff40ad",
   "metadata": {},
   "outputs": [
    {
     "data": {
      "text/plain": [
       "3"
      ]
     },
     "execution_count": 68,
     "metadata": {},
     "output_type": "execute_result"
    }
   ],
   "source": [
    "int('11',2)"
   ]
  },
  {
   "cell_type": "code",
   "execution_count": 69,
   "id": "4a0175e3",
   "metadata": {},
   "outputs": [
    {
     "data": {
      "text/plain": [
       "26"
      ]
     },
     "execution_count": 69,
     "metadata": {},
     "output_type": "execute_result"
    }
   ],
   "source": [
    "int('1A',16)"
   ]
  },
  {
   "cell_type": "markdown",
   "id": "a9b9294a",
   "metadata": {},
   "source": [
    "### isinstance(object, class)"
   ]
  },
  {
   "cell_type": "markdown",
   "id": "f2450236",
   "metadata": {},
   "source": [
    "첫 번째 인수로 인스턴스, 두 번째 인수로 클래스 이름을 받음. 입력으로 받은 인스턴스가 그 클래스의 인스터인지를 판단하여 참/거짓 반환"
   ]
  },
  {
   "cell_type": "code",
   "execution_count": 73,
   "id": "e94b7274",
   "metadata": {},
   "outputs": [
    {
     "data": {
      "text/plain": [
       "True"
      ]
     },
     "execution_count": 73,
     "metadata": {},
     "output_type": "execute_result"
    }
   ],
   "source": [
    "class Person:pass\n",
    "\n",
    "a = Person()\n",
    "isinstance(a, Person)"
   ]
  },
  {
   "cell_type": "code",
   "execution_count": 74,
   "id": "8b606f9d",
   "metadata": {},
   "outputs": [
    {
     "data": {
      "text/plain": [
       "False"
      ]
     },
     "execution_count": 74,
     "metadata": {},
     "output_type": "execute_result"
    }
   ],
   "source": [
    "b = 3\n",
    "isinstance(b, Person)"
   ]
  },
  {
   "cell_type": "markdown",
   "id": "8bf4f07e",
   "metadata": {},
   "source": [
    "### len"
   ]
  },
  {
   "cell_type": "markdown",
   "id": "35698eeb",
   "metadata": {},
   "source": [
    "### list(list): list함수에 리스트를 입력으로 주면 똑같은 리스트를 복사(이중리스트도 안전하게 복사)"
   ]
  },
  {
   "cell_type": "markdown",
   "id": "78e95255",
   "metadata": {},
   "source": [
    "### map(f, iterable): 함수(f)와 반복 가능한 자료형을 입력으로 받음. 입력받은 자료형의 각 요소를 함수 f가 수행한 결과를 묶어서 돌려줌"
   ]
  },
  {
   "cell_type": "markdown",
   "id": "7658ccb6",
   "metadata": {},
   "source": [
    "### max"
   ]
  },
  {
   "cell_type": "markdown",
   "id": "df27aeaa",
   "metadata": {},
   "source": [
    "### min"
   ]
  },
  {
   "cell_type": "markdown",
   "id": "f0921526",
   "metadata": {},
   "source": [
    "### oct: 정수 형태의 숫자를 8진수 문자열로 바꾸어 돌려줌"
   ]
  },
  {
   "cell_type": "code",
   "execution_count": 79,
   "id": "6a2d93b5",
   "metadata": {},
   "outputs": [
    {
     "data": {
      "text/plain": [
       "'0o42'"
      ]
     },
     "execution_count": 79,
     "metadata": {},
     "output_type": "execute_result"
    }
   ],
   "source": [
    "oct(34)"
   ]
  },
  {
   "cell_type": "code",
   "execution_count": 80,
   "id": "97b2d94d",
   "metadata": {},
   "outputs": [
    {
     "data": {
      "text/plain": [
       "'0o30071'"
      ]
     },
     "execution_count": 80,
     "metadata": {},
     "output_type": "execute_result"
    }
   ],
   "source": [
    "oct(12345)"
   ]
  },
  {
   "cell_type": "markdown",
   "id": "ec60fc17",
   "metadata": {},
   "source": [
    "### open(filename, [mode]): 파일이름과 읽기 방법을 입력받아 파일 객체를 돌려줌 (w,r,a,b) 쓰기,읽기(기본),추가,바이너리"
   ]
  },
  {
   "cell_type": "code",
   "execution_count": 81,
   "id": "073cbb92",
   "metadata": {},
   "outputs": [
    {
     "ename": "FileNotFoundError",
     "evalue": "[Errno 2] No such file or directory: 'binary_file'",
     "output_type": "error",
     "traceback": [
      "\u001b[1;31m---------------------------------------------------------------------------\u001b[0m",
      "\u001b[1;31mFileNotFoundError\u001b[0m                         Traceback (most recent call last)",
      "\u001b[1;32mC:\\Users\\NAJONG~1\\AppData\\Local\\Temp/ipykernel_16284/245634714.py\u001b[0m in \u001b[0;36m<module>\u001b[1;34m\u001b[0m\n\u001b[1;32m----> 1\u001b[1;33m \u001b[0mf\u001b[0m \u001b[1;33m=\u001b[0m \u001b[0mopen\u001b[0m\u001b[1;33m(\u001b[0m\u001b[1;34m'binary_file'\u001b[0m\u001b[1;33m,\u001b[0m \u001b[1;34m'rb'\u001b[0m\u001b[1;33m)\u001b[0m\u001b[1;33m\u001b[0m\u001b[1;33m\u001b[0m\u001b[0m\n\u001b[0m",
      "\u001b[1;31mFileNotFoundError\u001b[0m: [Errno 2] No such file or directory: 'binary_file'"
     ]
    }
   ],
   "source": [
    "f = open('binary_file', 'rb')"
   ]
  },
  {
   "cell_type": "code",
   "execution_count": 82,
   "id": "72881c76",
   "metadata": {},
   "outputs": [
    {
     "ename": "FileNotFoundError",
     "evalue": "[Errno 2] No such file or directory: 'read_mode.txt'",
     "output_type": "error",
     "traceback": [
      "\u001b[1;31m---------------------------------------------------------------------------\u001b[0m",
      "\u001b[1;31mFileNotFoundError\u001b[0m                         Traceback (most recent call last)",
      "\u001b[1;32mC:\\Users\\NAJONG~1\\AppData\\Local\\Temp/ipykernel_16284/315554285.py\u001b[0m in \u001b[0;36m<module>\u001b[1;34m\u001b[0m\n\u001b[1;32m----> 1\u001b[1;33m \u001b[0mfread\u001b[0m \u001b[1;33m=\u001b[0m \u001b[0mopen\u001b[0m\u001b[1;33m(\u001b[0m\u001b[1;34m'read_mode.txt'\u001b[0m\u001b[1;33m,\u001b[0m \u001b[1;34m'r'\u001b[0m\u001b[1;33m)\u001b[0m\u001b[1;33m\u001b[0m\u001b[1;33m\u001b[0m\u001b[0m\n\u001b[0m\u001b[0;32m      2\u001b[0m \u001b[0mfread2\u001b[0m \u001b[1;33m=\u001b[0m\u001b[0mopen\u001b[0m\u001b[1;33m(\u001b[0m\u001b[1;34m'read_mode.txt'\u001b[0m\u001b[1;33m,\u001b[0m\u001b[1;33m)\u001b[0m\u001b[1;33m\u001b[0m\u001b[1;33m\u001b[0m\u001b[0m\n",
      "\u001b[1;31mFileNotFoundError\u001b[0m: [Errno 2] No such file or directory: 'read_mode.txt'"
     ]
    }
   ],
   "source": [
    "fread = open('read_mode.txt', 'r')\n",
    "fread2 =open('read_mode.txt',)"
   ]
  },
  {
   "cell_type": "code",
   "execution_count": 83,
   "id": "6a67d7a7",
   "metadata": {},
   "outputs": [],
   "source": [
    "faapend = open('append_mode.txt', 'a')"
   ]
  },
  {
   "cell_type": "markdown",
   "id": "2133f0b6",
   "metadata": {},
   "source": [
    "### ord: 문자의 유니코드 값을 돌려줌."
   ]
  },
  {
   "cell_type": "code",
   "execution_count": 84,
   "id": "26b9458b",
   "metadata": {},
   "outputs": [
    {
     "data": {
      "text/plain": [
       "97"
      ]
     },
     "execution_count": 84,
     "metadata": {},
     "output_type": "execute_result"
    }
   ],
   "source": [
    "ord('a')"
   ]
  },
  {
   "cell_type": "code",
   "execution_count": 85,
   "id": "1c64bfab",
   "metadata": {},
   "outputs": [
    {
     "data": {
      "text/plain": [
       "44032"
      ]
     },
     "execution_count": 85,
     "metadata": {},
     "output_type": "execute_result"
    }
   ],
   "source": [
    "ord('가')"
   ]
  },
  {
   "cell_type": "markdown",
   "id": "ebb29b0d",
   "metadata": {},
   "source": [
    "### pow(x,y): x의 y제곱값"
   ]
  },
  {
   "cell_type": "code",
   "execution_count": 86,
   "id": "48670d59",
   "metadata": {},
   "outputs": [
    {
     "data": {
      "text/plain": [
       "16"
      ]
     },
     "execution_count": 86,
     "metadata": {},
     "output_type": "execute_result"
    }
   ],
   "source": [
    "pow(2,4)"
   ]
  },
  {
   "cell_type": "markdown",
   "id": "e88e6427",
   "metadata": {},
   "source": [
    "### range"
   ]
  },
  {
   "cell_type": "markdown",
   "id": "e3886a54",
   "metadata": {},
   "source": [
    "### round(number[, ndigits]): 숫자를 입력받아 반올림"
   ]
  },
  {
   "cell_type": "code",
   "execution_count": 87,
   "id": "de19bd09",
   "metadata": {},
   "outputs": [
    {
     "data": {
      "text/plain": [
       "5"
      ]
     },
     "execution_count": 87,
     "metadata": {},
     "output_type": "execute_result"
    }
   ],
   "source": [
    "round(4.6)"
   ]
  },
  {
   "cell_type": "code",
   "execution_count": 88,
   "id": "968817c4",
   "metadata": {},
   "outputs": [
    {
     "data": {
      "text/plain": [
       "4"
      ]
     },
     "execution_count": 88,
     "metadata": {},
     "output_type": "execute_result"
    }
   ],
   "source": [
    "round(4.2)"
   ]
  },
  {
   "cell_type": "code",
   "execution_count": 89,
   "id": "62a59820",
   "metadata": {},
   "outputs": [
    {
     "data": {
      "text/plain": [
       "5.68"
      ]
     },
     "execution_count": 89,
     "metadata": {},
     "output_type": "execute_result"
    }
   ],
   "source": [
    "round(5.678, 2)"
   ]
  },
  {
   "cell_type": "markdown",
   "id": "36a72fb2",
   "metadata": {},
   "source": [
    "### sorted"
   ]
  },
  {
   "cell_type": "markdown",
   "id": "7f82d8ab",
   "metadata": {},
   "source": [
    "### str"
   ]
  },
  {
   "cell_type": "markdown",
   "id": "f165a1e9",
   "metadata": {},
   "source": [
    "### sum"
   ]
  },
  {
   "cell_type": "markdown",
   "id": "1ec48dbd",
   "metadata": {},
   "source": [
    "### tuple(iterable): 반복 가능한 자료형을 입력받아 튜플 형태로 바꾸어 돌려줌, 튜플이 입력으로 들어오면 그대로 반환"
   ]
  },
  {
   "cell_type": "code",
   "execution_count": 90,
   "id": "dbbcd601",
   "metadata": {},
   "outputs": [
    {
     "data": {
      "text/plain": [
       "('a', 'b', 'c')"
      ]
     },
     "execution_count": 90,
     "metadata": {},
     "output_type": "execute_result"
    }
   ],
   "source": [
    "tuple('abc')"
   ]
  },
  {
   "cell_type": "code",
   "execution_count": 91,
   "id": "b19a1f8d",
   "metadata": {},
   "outputs": [
    {
     "data": {
      "text/plain": [
       "(1, 2, 3)"
      ]
     },
     "execution_count": 91,
     "metadata": {},
     "output_type": "execute_result"
    }
   ],
   "source": [
    "tuple([1,2,3])"
   ]
  },
  {
   "cell_type": "code",
   "execution_count": 92,
   "id": "9860564f",
   "metadata": {},
   "outputs": [
    {
     "data": {
      "text/plain": [
       "(1, 2, 3)"
      ]
     },
     "execution_count": 92,
     "metadata": {},
     "output_type": "execute_result"
    }
   ],
   "source": [
    "tuple((1,2,3))"
   ]
  },
  {
   "cell_type": "markdown",
   "id": "24f67342",
   "metadata": {},
   "source": [
    "### type"
   ]
  },
  {
   "cell_type": "markdown",
   "id": "2af359f8",
   "metadata": {},
   "source": [
    "### zip(*iterable): 동일한 개수로 이루어진 자료형을 묶어 주는 역할"
   ]
  },
  {
   "cell_type": "code",
   "execution_count": 93,
   "id": "ad8f6e92",
   "metadata": {},
   "outputs": [
    {
     "data": {
      "text/plain": [
       "[(1, 4), (2, 5), (3, 6)]"
      ]
     },
     "execution_count": 93,
     "metadata": {},
     "output_type": "execute_result"
    }
   ],
   "source": [
    "list(zip([1,2,3],[4,5,6]))"
   ]
  },
  {
   "cell_type": "code",
   "execution_count": 94,
   "id": "2c131124",
   "metadata": {},
   "outputs": [
    {
     "data": {
      "text/plain": [
       "[(1, 4, 7), (2, 5, 8), (3, 6, 9)]"
      ]
     },
     "execution_count": 94,
     "metadata": {},
     "output_type": "execute_result"
    }
   ],
   "source": [
    "list(zip([1,2,3],[4,5,6],[7,8,9]))"
   ]
  },
  {
   "cell_type": "code",
   "execution_count": 95,
   "id": "a1a414da",
   "metadata": {},
   "outputs": [
    {
     "data": {
      "text/plain": [
       "[('a', 'd'), ('b', 'e'), ('c', 'f')]"
      ]
     },
     "execution_count": 95,
     "metadata": {},
     "output_type": "execute_result"
    }
   ],
   "source": [
    "list(zip('abc','def'))"
   ]
  },
  {
   "cell_type": "markdown",
   "id": "5edfa4a9",
   "metadata": {},
   "source": [
    "# 05-6 라이브러리"
   ]
  },
  {
   "cell_type": "markdown",
   "id": "eda4e1a7",
   "metadata": {},
   "source": [
    "### sys: 파이썬 인터프리터가 제공하는 변수와 함수를 직접 제어할 수 있게 해주는 모듈"
   ]
  },
  {
   "cell_type": "markdown",
   "id": "ee278be8",
   "metadata": {},
   "source": [
    "sys.argv: 명령 행에서 인수 전달"
   ]
  },
  {
   "cell_type": "markdown",
   "id": "7d2e9774",
   "metadata": {},
   "source": [
    "sys.exit(): 강제로 스크립트 종료"
   ]
  },
  {
   "cell_type": "markdown",
   "id": "009ecdc8",
   "metadata": {},
   "source": [
    "sys.path: 자신이 만든 모듈 불러와 사용"
   ]
  },
  {
   "cell_type": "markdown",
   "id": "2686dfe1",
   "metadata": {},
   "source": [
    "### pickle: 객체의 형태를 그대로 유지하면서 파일에 저장하고 불러올 수 있게 하는 모듈"
   ]
  },
  {
   "cell_type": "code",
   "execution_count": 96,
   "id": "cb338457",
   "metadata": {},
   "outputs": [],
   "source": [
    "import pickle\n",
    "f = open('test.txt', 'wb')\n",
    "data = {1: 'python', 2: 'you need'}\n",
    "pickle.dump(data, f)\n",
    "f.close()"
   ]
  },
  {
   "cell_type": "code",
   "execution_count": 97,
   "id": "6bedb571",
   "metadata": {},
   "outputs": [
    {
     "name": "stdout",
     "output_type": "stream",
     "text": [
      "{1: 'python', 2: 'you need'}\n"
     ]
    }
   ],
   "source": [
    "import pickle\n",
    "f = open('test.txt', 'rb')\n",
    "data = pickle.load(f)\n",
    "print(data)"
   ]
  },
  {
   "cell_type": "markdown",
   "id": "c25fd697",
   "metadata": {},
   "source": [
    "### os: 환경 변수나 디렉터리, 파일 등의 OS 자원을 제어할 수 있게 해주는 모듈"
   ]
  },
  {
   "cell_type": "markdown",
   "id": "ebb4e312",
   "metadata": {},
   "source": [
    "os.environ: 내 시스템의 환경 변수 알려줌"
   ]
  },
  {
   "cell_type": "code",
   "execution_count": 99,
   "id": "2d4f1c33",
   "metadata": {},
   "outputs": [
    {
     "data": {
      "text/plain": [
       "environ{'ALLUSERSPROFILE': 'C:\\\\ProgramData',\n",
       "        'APPDATA': 'D:\\\\Roaming',\n",
       "        'COMMONPROGRAMFILES': 'C:\\\\Program Files\\\\Common Files',\n",
       "        'COMMONPROGRAMFILES(X86)': 'C:\\\\Program Files (x86)\\\\Common Files',\n",
       "        'COMMONPROGRAMW6432': 'C:\\\\Program Files\\\\Common Files',\n",
       "        'COMPUTERNAME': 'DESKTOP-GCA0GLJ',\n",
       "        'COMSPEC': 'C:\\\\WINDOWS\\\\system32\\\\cmd.exe',\n",
       "        'CUDA_PATH': 'C:\\\\Program Files\\\\NVIDIA GPU Computing Toolkit\\\\CUDA\\\\v11.3',\n",
       "        'CUDA_PATH_V11_3': 'C:\\\\Program Files\\\\NVIDIA GPU Computing Toolkit\\\\CUDA\\\\v11.3',\n",
       "        'DOKANLIBRARY1': 'C:\\\\Program Files\\\\Dokan\\\\Dokan Library-1.4.0\\\\',\n",
       "        'DOKANLIBRARY1_LIBRARYPATH_X64': 'C:\\\\Program Files\\\\Dokan\\\\Dokan Library-1.4.0\\\\lib\\\\',\n",
       "        'DOKANLIBRARY1_LIBRARYPATH_X86': 'C:\\\\Program Files\\\\Dokan\\\\Dokan Library-1.4.0\\\\x86\\\\lib\\\\',\n",
       "        'DRIVERDATA': 'C:\\\\Windows\\\\System32\\\\Drivers\\\\DriverData',\n",
       "        'FPS_BROWSER_APP_PROFILE_STRING': 'Internet Explorer',\n",
       "        'FPS_BROWSER_USER_PROFILE_STRING': 'Default',\n",
       "        'HOMEDRIVE': 'C:',\n",
       "        'HOMEPATH': '\\\\Users\\\\najonggeun',\n",
       "        'KMP_BLOCKTIME': '0',\n",
       "        'LOCALAPPDATA': 'C:\\\\Users\\\\najonggeun\\\\AppData\\\\Local',\n",
       "        'LOGONSERVER': '\\\\\\\\DESKTOP-GCA0GLJ',\n",
       "        'NUMBER_OF_PROCESSORS': '12',\n",
       "        'NVCUDASAMPLES11_3_ROOT': 'C:\\\\ProgramData\\\\NVIDIA Corporation\\\\CUDA Samples\\\\v11.3',\n",
       "        'NVCUDASAMPLES_ROOT': 'C:\\\\ProgramData\\\\NVIDIA Corporation\\\\CUDA Samples\\\\v11.3',\n",
       "        'NVTOOLSEXT_PATH': 'C:\\\\Program Files\\\\NVIDIA Corporation\\\\NvToolsExt\\\\',\n",
       "        'OCULUSBASE': 'C:\\\\Program Files\\\\Oculus\\\\',\n",
       "        'OMP_WAIT_POLICY': 'PASSIVE',\n",
       "        'ONEDRIVE': 'C:\\\\Users\\\\najonggeun\\\\OneDrive',\n",
       "        'ONEDRIVECONSUMER': 'C:\\\\Users\\\\najonggeun\\\\OneDrive',\n",
       "        'OS': 'Windows_NT',\n",
       "        'PATH': 'D:\\\\userDATA\\\\anaconda3\\\\envs\\\\pt1.1;D:\\\\userDATA\\\\anaconda3\\\\envs\\\\pt1.1\\\\Library\\\\mingw-w64\\\\bin;D:\\\\userDATA\\\\anaconda3\\\\envs\\\\pt1.1\\\\Library\\\\usr\\\\bin;D:\\\\userDATA\\\\anaconda3\\\\envs\\\\pt1.1\\\\Library\\\\bin;D:\\\\userDATA\\\\anaconda3\\\\envs\\\\pt1.1\\\\Scripts;C:\\\\Program Files\\\\NVIDIA GPU Computing Toolkit\\\\CUDA\\\\v11.3\\\\bin;C:\\\\Program Files\\\\NVIDIA GPU Computing Toolkit\\\\CUDA\\\\v11.3\\\\libnvvp;;C:\\\\Program Files (x86)\\\\NAT Service;C:\\\\Program Files\\\\Oculus\\\\Support\\\\oculus-runtime;C:\\\\Program Files (x86)\\\\Intel\\\\iCLS Client\\\\;C:\\\\Program Files\\\\Intel\\\\iCLS Client\\\\;C:\\\\WINDOWS\\\\system32;C:\\\\WINDOWS;C:\\\\WINDOWS\\\\System32\\\\Wbem;C:\\\\WINDOWS\\\\System32\\\\WindowsPowerShell\\\\v1.0\\\\;C:\\\\WINDOWS\\\\system32;C:\\\\WINDOWS;C:\\\\WINDOWS\\\\System32\\\\Wbem;C:\\\\WINDOWS\\\\System32\\\\WindowsPowerShell\\\\v1.0\\\\;C:\\\\WINDOWS\\\\System32\\\\OpenSSH\\\\;C:\\\\Program Files (x86)\\\\Intel\\\\Intel(R) Management Engine Components\\\\DAL;C:\\\\Program Files\\\\Intel\\\\Intel(R) Management Engine Components\\\\DAL;C:\\\\Program Files (x86)\\\\Intel\\\\Intel(R) Management Engine Components\\\\IPT;C:\\\\Program Files\\\\Intel\\\\Intel(R) Management Engine Components\\\\IPT;C:\\\\Program Files\\\\dotnet\\\\;C:\\\\Program Files\\\\Docker\\\\Docker\\\\resources\\\\bin;C:\\\\ProgramData\\\\DockerDesktop\\\\version-bin;C:\\\\Program Files (x86)\\\\NVIDIA Corporation\\\\PhysX\\\\Common;C:\\\\Program Files\\\\NVIDIA Corporation\\\\NVIDIA NvDLISR;C:\\\\Program Files\\\\NVIDIA Corporation\\\\Nsight Compute 2021.1.0\\\\;C:\\\\Users\\\\najonggeun\\\\AppData\\\\Local\\\\Programs\\\\Python\\\\Python39\\\\Scripts\\\\;C:\\\\Users\\\\najonggeun\\\\AppData\\\\Local\\\\Programs\\\\Python\\\\Python39\\\\;C:\\\\Users\\\\najonggeun\\\\AppData\\\\Local\\\\Microsoft\\\\WindowsApps;C:\\\\ProgramData\\\\SungKeunNa\\\\atom\\\\bin;C:\\\\Program Files\\\\Bandizip\\\\;C:\\\\Users\\\\najonggeun\\\\AppData\\\\Local\\\\atom\\\\bin;C:\\\\Users\\\\najonggeun\\\\AppData\\\\Local\\\\afreeca;C:\\\\Program Files\\\\NVIDIA GPU Computing Toolkit\\\\CUDA\\\\v11.3\\\\bin;C:\\\\Program Files\\\\NVIDIA GPU Computing Toolkit\\\\CUDA\\\\v11.3\\\\lib;C:\\\\Program Files\\\\NVIDIA GPU Computing Toolkit\\\\CUDA\\\\v11.3\\\\include;',\n",
       "        'PATHEXT': '.COM;.EXE;.BAT;.CMD;.VBS;.VBE;.JS;.JSE;.WSF;.WSH;.MSC;.PY',\n",
       "        'PROCESSOR_ARCHITECTURE': 'AMD64',\n",
       "        'PROCESSOR_IDENTIFIER': 'AMD64 Family 23 Model 113 Stepping 0, AuthenticAMD',\n",
       "        'PROCESSOR_LEVEL': '23',\n",
       "        'PROCESSOR_REVISION': '7100',\n",
       "        'PROG27B48B2C050': '1',\n",
       "        'PROG27B48B2C054': '1',\n",
       "        'PROGRAMDATA': 'C:\\\\ProgramData',\n",
       "        'PROGRAMFILES': 'C:\\\\Program Files',\n",
       "        'PROGRAMFILES(X86)': 'C:\\\\Program Files (x86)',\n",
       "        'PROGRAMW6432': 'C:\\\\Program Files',\n",
       "        'PSMODULEPATH': 'C:\\\\WINDOWS\\\\system32\\\\WindowsPowerShell\\\\v1.0\\\\Modules\\\\',\n",
       "        'PUBLIC': 'C:\\\\Users\\\\Public',\n",
       "        'SESSIONNAME': 'Console',\n",
       "        'SYSTEMDRIVE': 'C:',\n",
       "        'SYSTEMROOT': 'C:\\\\WINDOWS',\n",
       "        'TEMP': 'C:\\\\Users\\\\NAJONG~1\\\\AppData\\\\Local\\\\Temp',\n",
       "        'TMP': 'C:\\\\Users\\\\NAJONG~1\\\\AppData\\\\Local\\\\Temp',\n",
       "        'USERDOMAIN': 'DESKTOP-GCA0GLJ',\n",
       "        'USERDOMAIN_ROAMINGPROFILE': 'DESKTOP-GCA0GLJ',\n",
       "        'USERNAME': 'SungKeunNa',\n",
       "        'USERPROFILE': 'C:\\\\Users\\\\najonggeun',\n",
       "        'WINDIR': 'C:\\\\WINDOWS',\n",
       "        'CONDA_PREFIX': 'D:\\\\userDATA\\\\anaconda3\\\\envs\\\\pt1.1',\n",
       "        'PYDEVD_USE_FRAME_EVAL': 'NO',\n",
       "        'JPY_INTERRUPT_EVENT': '2512',\n",
       "        'IPY_INTERRUPT_EVENT': '2512',\n",
       "        'JPY_PARENT_PID': '2484',\n",
       "        'TERM': 'xterm-color',\n",
       "        'CLICOLOR': '1',\n",
       "        'PAGER': 'cat',\n",
       "        'GIT_PAGER': 'cat',\n",
       "        'MPLBACKEND': 'module://matplotlib_inline.backend_inline',\n",
       "        'KMP_INIT_AT_FORK': 'FALSE',\n",
       "        'KMP_DUPLICATE_LIB_OK': 'True'}"
      ]
     },
     "execution_count": 99,
     "metadata": {},
     "output_type": "execute_result"
    }
   ],
   "source": [
    "import os\n",
    "os.environ"
   ]
  },
  {
   "cell_type": "code",
   "execution_count": 100,
   "id": "10077e25",
   "metadata": {},
   "outputs": [
    {
     "data": {
      "text/plain": [
       "'D:\\\\userDATA\\\\anaconda3\\\\envs\\\\pt1.1;D:\\\\userDATA\\\\anaconda3\\\\envs\\\\pt1.1\\\\Library\\\\mingw-w64\\\\bin;D:\\\\userDATA\\\\anaconda3\\\\envs\\\\pt1.1\\\\Library\\\\usr\\\\bin;D:\\\\userDATA\\\\anaconda3\\\\envs\\\\pt1.1\\\\Library\\\\bin;D:\\\\userDATA\\\\anaconda3\\\\envs\\\\pt1.1\\\\Scripts;C:\\\\Program Files\\\\NVIDIA GPU Computing Toolkit\\\\CUDA\\\\v11.3\\\\bin;C:\\\\Program Files\\\\NVIDIA GPU Computing Toolkit\\\\CUDA\\\\v11.3\\\\libnvvp;;C:\\\\Program Files (x86)\\\\NAT Service;C:\\\\Program Files\\\\Oculus\\\\Support\\\\oculus-runtime;C:\\\\Program Files (x86)\\\\Intel\\\\iCLS Client\\\\;C:\\\\Program Files\\\\Intel\\\\iCLS Client\\\\;C:\\\\WINDOWS\\\\system32;C:\\\\WINDOWS;C:\\\\WINDOWS\\\\System32\\\\Wbem;C:\\\\WINDOWS\\\\System32\\\\WindowsPowerShell\\\\v1.0\\\\;C:\\\\WINDOWS\\\\system32;C:\\\\WINDOWS;C:\\\\WINDOWS\\\\System32\\\\Wbem;C:\\\\WINDOWS\\\\System32\\\\WindowsPowerShell\\\\v1.0\\\\;C:\\\\WINDOWS\\\\System32\\\\OpenSSH\\\\;C:\\\\Program Files (x86)\\\\Intel\\\\Intel(R) Management Engine Components\\\\DAL;C:\\\\Program Files\\\\Intel\\\\Intel(R) Management Engine Components\\\\DAL;C:\\\\Program Files (x86)\\\\Intel\\\\Intel(R) Management Engine Components\\\\IPT;C:\\\\Program Files\\\\Intel\\\\Intel(R) Management Engine Components\\\\IPT;C:\\\\Program Files\\\\dotnet\\\\;C:\\\\Program Files\\\\Docker\\\\Docker\\\\resources\\\\bin;C:\\\\ProgramData\\\\DockerDesktop\\\\version-bin;C:\\\\Program Files (x86)\\\\NVIDIA Corporation\\\\PhysX\\\\Common;C:\\\\Program Files\\\\NVIDIA Corporation\\\\NVIDIA NvDLISR;C:\\\\Program Files\\\\NVIDIA Corporation\\\\Nsight Compute 2021.1.0\\\\;C:\\\\Users\\\\najonggeun\\\\AppData\\\\Local\\\\Programs\\\\Python\\\\Python39\\\\Scripts\\\\;C:\\\\Users\\\\najonggeun\\\\AppData\\\\Local\\\\Programs\\\\Python\\\\Python39\\\\;C:\\\\Users\\\\najonggeun\\\\AppData\\\\Local\\\\Microsoft\\\\WindowsApps;C:\\\\ProgramData\\\\SungKeunNa\\\\atom\\\\bin;C:\\\\Program Files\\\\Bandizip\\\\;C:\\\\Users\\\\najonggeun\\\\AppData\\\\Local\\\\atom\\\\bin;C:\\\\Users\\\\najonggeun\\\\AppData\\\\Local\\\\afreeca;C:\\\\Program Files\\\\NVIDIA GPU Computing Toolkit\\\\CUDA\\\\v11.3\\\\bin;C:\\\\Program Files\\\\NVIDIA GPU Computing Toolkit\\\\CUDA\\\\v11.3\\\\lib;C:\\\\Program Files\\\\NVIDIA GPU Computing Toolkit\\\\CUDA\\\\v11.3\\\\include;'"
      ]
     },
     "execution_count": 100,
     "metadata": {},
     "output_type": "execute_result"
    }
   ],
   "source": [
    "os.environ['PATH']"
   ]
  },
  {
   "cell_type": "markdown",
   "id": "b7762e32",
   "metadata": {},
   "source": [
    "os.chdir: 디렉터리 위치 변경"
   ]
  },
  {
   "cell_type": "code",
   "execution_count": 102,
   "id": "9debe706",
   "metadata": {},
   "outputs": [],
   "source": [
    "os.chdir(\"C:\\WINDOWS\")"
   ]
  },
  {
   "cell_type": "markdown",
   "id": "dcb80d60",
   "metadata": {},
   "source": [
    "os.getcwd: 현재 자신의 디렉터리 위치"
   ]
  },
  {
   "cell_type": "code",
   "execution_count": 103,
   "id": "070eceba",
   "metadata": {},
   "outputs": [
    {
     "data": {
      "text/plain": [
       "'C:\\\\WINDOWS'"
      ]
     },
     "execution_count": 103,
     "metadata": {},
     "output_type": "execute_result"
    }
   ],
   "source": [
    "os.getcwd()"
   ]
  },
  {
   "cell_type": "markdown",
   "id": "e7da0e8a",
   "metadata": {},
   "source": [
    "os.system: 시스템 명령어 호출하기"
   ]
  },
  {
   "cell_type": "code",
   "execution_count": 104,
   "id": "3b3f9f44",
   "metadata": {},
   "outputs": [
    {
     "data": {
      "text/plain": [
       "0"
      ]
     },
     "execution_count": 104,
     "metadata": {},
     "output_type": "execute_result"
    }
   ],
   "source": [
    "os.system('dir')"
   ]
  },
  {
   "cell_type": "markdown",
   "id": "552737fc",
   "metadata": {},
   "source": [
    "os.popen: 실행한 시스템의 결과값 돌려받기"
   ]
  },
  {
   "cell_type": "code",
   "execution_count": 105,
   "id": "66db23bd",
   "metadata": {},
   "outputs": [],
   "source": [
    "f = os.popen('dir')"
   ]
  },
  {
   "cell_type": "code",
   "execution_count": 106,
   "id": "2fffcbe1",
   "metadata": {},
   "outputs": [
    {
     "name": "stdout",
     "output_type": "stream",
     "text": [
      " C 드라이브의 볼륨에는 이름이 없습니다.\n",
      " 볼륨 일련 번호: 6EE7-6EB5\n",
      "\n",
      " C:\\WINDOWS 디렉터리\n",
      "\n",
      "2022-03-23  오후 12:19    <DIR>          .\n",
      "2022-03-23  오후 12:19    <DIR>          ..\n",
      "2017-05-10  오전 12:09             5,430 11st.ico\n",
      "2019-12-07  오후 10:58    <DIR>          addins\n",
      "2021-01-13  오후 11:18           353,118 afreeca.ico\n",
      "2021-01-23  오후 10:05           658,597 AhnInst.log\n",
      "2017-06-12  오전 10:37           369,256 AllatKeyIn.exe\n",
      "2017-06-22  오전 08:52           895,592 AllatPayRE.dll\n",
      "2021-01-12  오후 02:54    <DIR>          appcompat\n",
      "2017-12-06  오전 09:34    <DIR>          Application Data\n",
      "2021-12-17  오후 12:39    <DIR>          apppatch\n",
      "2022-04-13  오후 07:49    <DIR>          AppReadiness\n",
      "2017-05-10  오전 12:10            17,542 auction.ico\n",
      "2021-12-17  오후 12:39    <DIR>          bcastdvr\n",
      "2021-09-16  오후 02:38            81,408 bfsvc.exe\n",
      "2019-12-07  오후 05:31    <DIR>          Boot\n",
      "2019-12-07  오후 05:14    <DIR>          Branding\n",
      "2022-02-13  오후 12:14    <DIR>          CbsTemp\n",
      "2021-04-22  오후 05:13             6,287 certutil.log\n",
      "2020-09-23  오전 01:58            45,937 comsetup.log\n",
      "2019-12-07  오후 11:22    <DIR>          Containers\n",
      "2016-09-22  오후 07:44    <DIR>          CSC\n",
      "2019-12-07  오후 05:14    <DIR>          Cursors\n",
      "2018-05-17  오후 01:30             2,224 cxviewer60u.ini\n",
      "2018-05-14  오후 10:15             1,882 DDACLSys.log\n",
      "2020-12-03  오전 11:09    <DIR>          debug\n",
      "2020-09-23  오전 01:59             7,623 diagerr.xml\n",
      "2019-12-07  오후 05:31    <DIR>          diagnostics\n",
      "2021-10-14  오전 09:52    <DIR>          DiagTrack\n",
      "2020-09-23  오전 01:59             7,623 diagwrn.xml\n",
      "2019-12-07  오후 10:56    <DIR>          DigitalLocker\n",
      "2022-02-23  오후 12:57           116,970 DirectX.log\n",
      "2021-01-13  오후 07:32            48,904 DPINST.LOG\n",
      "2019-12-07  오후 05:17               776 DtcInstall.log\n",
      "2020-07-18  오전 10:37             2,178 DXError.log\n",
      "2019-12-07  오후 10:56    <DIR>          en-US\n",
      "2021-12-17  오후 12:21         4,971,808 explorer.exe\n",
      "2019-12-07  오후 05:14    <DIR>          GameBarPresenceWriter\n",
      "2019-12-07  오후 05:31    <DIR>          Globalization\n",
      "2017-02-10  오전 08:05            99,678 gmarket.ico\n",
      "2017-02-25  오후 10:58                22 GPU-Z.INI\n",
      "2018-06-28  오후 05:34    <DIR>          HancomIME\n",
      "2020-09-23  오전 01:19    <DIR>          Help\n",
      "2021-08-13  오후 08:05         1,075,712 HelpPane.exe\n",
      "2020-07-01  오후 11:07            27,156 HFIT.hff\n",
      "2019-12-07  오후 05:09            18,432 hh.exe\n",
      "2019-12-07  오후 05:31    <DIR>          IdentityCRL\n",
      "2019-12-08  오전 10:13             8,426 IE11_main.log\n",
      "2020-09-09  오전 08:21            65,536 IFinst27.exe\n",
      "2016-01-14  오후 02:10            13,440 ImageSAFERSvc.exe\n",
      "2021-01-15  오후 09:54    <DIR>          IME\n",
      "2019-08-19  오후 03:15            71,280 IMGSF50Svc.exe\n",
      "2022-01-25  오후 09:25    <DIR>          ImmersiveControlPanel\n",
      "2022-04-11  오후 01:12    <DIR>          INF\n",
      "2020-09-28  오후 06:09             2,733 Info.xml\n",
      "2019-09-02  오후 12:32    <DIR>          InfusedApps\n",
      "2014-11-10  오후 12:22            80,680 INISBDrvUnit.10004.dll\n",
      "2014-11-10  오후 12:22           234,792 INISBDrvUnit64.10004.dll\n",
      "2019-12-07  오후 05:14    <DIR>          InputMethod\n",
      "2021-11-12  오후 09:32    <DIR>          ko-KR\n",
      "2022-02-07  오후 12:21         1,270,888 KodeMonL.sys\n",
      "2019-12-07  오후 05:14    <DIR>          L2Schemas\n",
      "2022-03-23  오후 12:18    <DIR>          LastGood.Tmp\n",
      "2022-01-30  오후 01:29    <DIR>          LiveKernelReports\n",
      "2022-03-03  오후 03:20    <DIR>          Logs\n",
      "2022-01-28  오후 07:21     1,659,399,742 MEMORY.DMP\n",
      "2019-12-07  오후 05:08            43,131 mib.bin\n",
      "2022-04-14  오전 09:51    <DIR>          Microsoft.NET\n",
      "2019-12-07  오후 05:14    <DIR>          Migration\n",
      "2022-01-28  오후 07:22    <DIR>          Minidump\n",
      "2019-12-07  오후 05:14    <DIR>          ModemLogs\n",
      "2021-11-12  오후 09:09           208,384 notepad.exe\n",
      "2021-11-17  오전 02:36             1,951 NvContainerRecovery.bat\n",
      "2019-12-07  오후 10:59    <DIR>          OCR\n",
      "2019-12-07  오후 05:14    <DIR>          Offline Web Pages\n",
      "2021-01-15  오후 09:55    <DIR>          Panther\n",
      "2019-12-07  오후 05:14    <DIR>          Performance\n",
      "2022-04-11  오후 01:05         5,198,554 PFRO.log\n",
      "2019-12-07  오후 05:31    <DIR>          PLA\n",
      "2021-12-17  오후 12:39    <DIR>          PolicyDefinitions\n",
      "2022-04-14  오전 10:35    <DIR>          Prefetch\n",
      "2021-06-11  오후 05:39    <DIR>          PrintDialog\n",
      "2019-12-07  오후 05:10            30,831 Professional.xml\n",
      "2020-09-23  오전 12:28                36 progress.ini\n",
      "2021-12-17  오후 12:39    <DIR>          Provisioning\n",
      "2020-09-18  오후 07:59    <DIR>          pss\n",
      "2021-06-28  오후 03:07           924,392 py.exe\n",
      "2021-06-28  오후 03:08            57,064 pyshellext.amd64.dll\n",
      "2021-06-28  오후 03:07           924,904 pyw.exe\n",
      "2021-01-15  오후 01:14           370,176 regedit.exe\n",
      "2022-02-09  오후 04:47    <DIR>          registration\n",
      "2019-12-07  오후 11:00    <DIR>          RemotePackages\n",
      "2019-12-07  오후 05:14    <DIR>          rescache\n",
      "2014-11-10  오후 12:10             4,350 rescue_inisb.reg\n",
      "2018-09-21  오후 04:32             2,364 rescue_inisb_64.reg\n",
      "2014-11-10  오후 12:10             2,828 rescue_ocx.reg\n",
      "2018-09-21  오후 04:32             2,522 rescue_ocx_64.reg\n",
      "2020-09-23  오전 01:46    <DIR>          Resources\n",
      "2016-09-22  오후 02:55         2,839,520 RtlExUpd.dll\n",
      "2019-12-07  오후 05:14    <DIR>          SchCache\n",
      "2019-12-07  오후 11:00    <DIR>          schemas\n",
      "2019-12-07  오후 11:00    <DIR>          security\n",
      "2021-05-07  오전 12:20    <DIR>          ServiceProfiles\n",
      "2021-01-12  오후 02:54    <DIR>          ServiceState\n",
      "2021-11-12  오후 09:32    <DIR>          servicing\n",
      "2020-09-23  오전 01:45    <DIR>          Setup\n",
      "2022-04-14  오전 09:24         1,092,994 setupact.log\n",
      "2020-09-23  오전 01:49                 0 setuperr.log\n",
      "2021-09-17  오전 01:11    <DIR>          ShellComponents\n",
      "2021-11-12  오후 09:32    <DIR>          ShellExperiences\n",
      "2020-09-23  오전 01:46    <DIR>          ShellNew\n",
      "2019-12-07  오후 05:31    <DIR>          SKB\n",
      "2020-09-23  오전 01:59    <DIR>          SoftwareDistribution\n",
      "2019-12-07  오후 05:14    <DIR>          Speech\n",
      "2019-12-07  오후 05:14    <DIR>          Speech_OneCore\n",
      "2021-12-17  오후 12:21           136,192 splwow64.exe\n",
      "2019-12-07  오후 05:14    <DIR>          System\n",
      "2015-07-10  오후 07:02               219 system.ini\n",
      "2022-04-11  오후 01:12    <DIR>          System32\n",
      "2019-12-07  오후 11:00    <DIR>          SystemApps\n",
      "2021-12-17  오후 12:39    <DIR>          SystemResources\n",
      "2021-12-17  오후 12:39    <DIR>          SystemTemp\n",
      "2022-04-03  오후 12:25    <DIR>          SysWOW64\n",
      "2019-12-07  오후 05:14    <DIR>          TAPI\n",
      "2021-01-12  오후 02:54    <DIR>          Tasks\n",
      "2022-04-14  오전 09:51    <DIR>          Temp\n",
      "2020-05-17  오전 01:05    <DIR>          TextInput\n",
      "2019-12-07  오후 05:14    <DIR>          tracing\n",
      "2020-08-08  오후 04:21    <DIR>          twain_32\n",
      "2019-12-07  오후 05:10            65,024 twain_32.dll\n",
      "2022-02-10  오전 12:13                 0 Uninstall.ini\n",
      "2017-10-15  오전 12:57            70,464 uninstallkdf8.exe\n",
      "2019-12-07  오후 05:14    <DIR>          Vss\n",
      "2019-12-07  오후 05:14    <DIR>          WaaS\n",
      "2019-12-07  오후 05:31    <DIR>          Web\n",
      "2015-07-10  오후 07:02                92 win.ini\n",
      "2022-04-14  오전 09:48               276 WindowsUpdate.log\n",
      "2019-12-07  오후 05:10            11,776 winhlp32.exe\n",
      "2018-04-07  오전 09:18               904 wininit.ini\n",
      "2022-02-18  오전 11:49    <DIR>          WinSxS\n",
      "2021-05-25  오후 01:05            33,864 WiseUnlock64.sys\n",
      "2019-12-07  오후 11:00           316,640 WMSysPr9.prx\n",
      "2019-12-07  오전 05:29            11,264 write.exe\n",
      "2022-04-13  오후 05:07         1,431,256 xhunter1.sys\n",
      "2022-04-13  오후 05:07            38,807 xhunters.log\n",
      "2017-08-06  오후 02:35            22,912 xspirit.sys\n",
      "              64개 파일       1,683,805,363 바이트\n",
      "              82개 디렉터리  86,977,626,112 바이트 남음\n",
      "\n"
     ]
    }
   ],
   "source": [
    "print(f.read())"
   ]
  },
  {
   "cell_type": "markdown",
   "id": "60a60e29",
   "metadata": {},
   "source": [
    "os.mkdir(디렉터리): 디렉터리 생성"
   ]
  },
  {
   "cell_type": "markdown",
   "id": "1b658bc1",
   "metadata": {},
   "source": [
    "os.rmdir(디렉터리): 디렉터리 삭제(디렉터리가 비어있어야 가능)"
   ]
  },
  {
   "cell_type": "markdown",
   "id": "f7ac62f4",
   "metadata": {},
   "source": [
    "os.unlink(파일): 파일 지움"
   ]
  },
  {
   "cell_type": "markdown",
   "id": "6576c577",
   "metadata": {},
   "source": [
    "os.rename(src, dst): src라는 이름의 파일을 dst라는 이름으로 바꿈"
   ]
  },
  {
   "cell_type": "code",
   "execution_count": null,
   "id": "8f3340bb",
   "metadata": {},
   "outputs": [],
   "source": []
  }
 ],
 "metadata": {
  "kernelspec": {
   "display_name": "pytorch",
   "language": "python",
   "name": "pt1.1"
  },
  "language_info": {
   "codemirror_mode": {
    "name": "ipython",
    "version": 3
   },
   "file_extension": ".py",
   "mimetype": "text/x-python",
   "name": "python",
   "nbconvert_exporter": "python",
   "pygments_lexer": "ipython3",
   "version": "3.9.7"
  }
 },
 "nbformat": 4,
 "nbformat_minor": 5
}
