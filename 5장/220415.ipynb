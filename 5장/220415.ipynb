{
 "cells": [
  {
   "cell_type": "markdown",
   "id": "9543d3b1",
   "metadata": {},
   "source": [
    "# 05-6 라이브러리 (shutil~)"
   ]
  },
  {
   "cell_type": "markdown",
   "id": "e991d8ae",
   "metadata": {},
   "source": [
    "### shutil: 파일을 복사해주는 파이썬 모듈"
   ]
  },
  {
   "cell_type": "code",
   "execution_count": 2,
   "id": "c4dec81e",
   "metadata": {},
   "outputs": [
    {
     "ename": "FileNotFoundError",
     "evalue": "[Errno 2] No such file or directory: 'src.txt'",
     "output_type": "error",
     "traceback": [
      "\u001b[1;31m---------------------------------------------------------------------------\u001b[0m",
      "\u001b[1;31mFileNotFoundError\u001b[0m                         Traceback (most recent call last)",
      "\u001b[1;32mC:\\Users\\NAJONG~1\\AppData\\Local\\Temp/ipykernel_14544/3329755390.py\u001b[0m in \u001b[0;36m<module>\u001b[1;34m\u001b[0m\n\u001b[0;32m      1\u001b[0m \u001b[1;32mimport\u001b[0m \u001b[0mshutil\u001b[0m\u001b[1;33m\u001b[0m\u001b[1;33m\u001b[0m\u001b[0m\n\u001b[1;32m----> 2\u001b[1;33m \u001b[0mshutil\u001b[0m\u001b[1;33m.\u001b[0m\u001b[0mcopy\u001b[0m\u001b[1;33m(\u001b[0m\u001b[1;34m'src.txt'\u001b[0m\u001b[1;33m,\u001b[0m \u001b[1;34m'dst.txt'\u001b[0m\u001b[1;33m)\u001b[0m\u001b[1;33m\u001b[0m\u001b[1;33m\u001b[0m\u001b[0m\n\u001b[0m",
      "\u001b[1;32mD:\\userDATA\\anaconda3\\envs\\pt1.1\\lib\\shutil.py\u001b[0m in \u001b[0;36mcopy\u001b[1;34m(src, dst, follow_symlinks)\u001b[0m\n\u001b[0;32m    424\u001b[0m     \u001b[1;32mif\u001b[0m \u001b[0mos\u001b[0m\u001b[1;33m.\u001b[0m\u001b[0mpath\u001b[0m\u001b[1;33m.\u001b[0m\u001b[0misdir\u001b[0m\u001b[1;33m(\u001b[0m\u001b[0mdst\u001b[0m\u001b[1;33m)\u001b[0m\u001b[1;33m:\u001b[0m\u001b[1;33m\u001b[0m\u001b[1;33m\u001b[0m\u001b[0m\n\u001b[0;32m    425\u001b[0m         \u001b[0mdst\u001b[0m \u001b[1;33m=\u001b[0m \u001b[0mos\u001b[0m\u001b[1;33m.\u001b[0m\u001b[0mpath\u001b[0m\u001b[1;33m.\u001b[0m\u001b[0mjoin\u001b[0m\u001b[1;33m(\u001b[0m\u001b[0mdst\u001b[0m\u001b[1;33m,\u001b[0m \u001b[0mos\u001b[0m\u001b[1;33m.\u001b[0m\u001b[0mpath\u001b[0m\u001b[1;33m.\u001b[0m\u001b[0mbasename\u001b[0m\u001b[1;33m(\u001b[0m\u001b[0msrc\u001b[0m\u001b[1;33m)\u001b[0m\u001b[1;33m)\u001b[0m\u001b[1;33m\u001b[0m\u001b[1;33m\u001b[0m\u001b[0m\n\u001b[1;32m--> 426\u001b[1;33m     \u001b[0mcopyfile\u001b[0m\u001b[1;33m(\u001b[0m\u001b[0msrc\u001b[0m\u001b[1;33m,\u001b[0m \u001b[0mdst\u001b[0m\u001b[1;33m,\u001b[0m \u001b[0mfollow_symlinks\u001b[0m\u001b[1;33m=\u001b[0m\u001b[0mfollow_symlinks\u001b[0m\u001b[1;33m)\u001b[0m\u001b[1;33m\u001b[0m\u001b[1;33m\u001b[0m\u001b[0m\n\u001b[0m\u001b[0;32m    427\u001b[0m     \u001b[0mcopymode\u001b[0m\u001b[1;33m(\u001b[0m\u001b[0msrc\u001b[0m\u001b[1;33m,\u001b[0m \u001b[0mdst\u001b[0m\u001b[1;33m,\u001b[0m \u001b[0mfollow_symlinks\u001b[0m\u001b[1;33m=\u001b[0m\u001b[0mfollow_symlinks\u001b[0m\u001b[1;33m)\u001b[0m\u001b[1;33m\u001b[0m\u001b[1;33m\u001b[0m\u001b[0m\n\u001b[0;32m    428\u001b[0m     \u001b[1;32mreturn\u001b[0m \u001b[0mdst\u001b[0m\u001b[1;33m\u001b[0m\u001b[1;33m\u001b[0m\u001b[0m\n",
      "\u001b[1;32mD:\\userDATA\\anaconda3\\envs\\pt1.1\\lib\\shutil.py\u001b[0m in \u001b[0;36mcopyfile\u001b[1;34m(src, dst, follow_symlinks)\u001b[0m\n\u001b[0;32m    263\u001b[0m     \u001b[1;32melse\u001b[0m\u001b[1;33m:\u001b[0m\u001b[1;33m\u001b[0m\u001b[1;33m\u001b[0m\u001b[0m\n\u001b[0;32m    264\u001b[0m         \u001b[1;32mtry\u001b[0m\u001b[1;33m:\u001b[0m\u001b[1;33m\u001b[0m\u001b[1;33m\u001b[0m\u001b[0m\n\u001b[1;32m--> 265\u001b[1;33m             \u001b[1;32mwith\u001b[0m \u001b[0mopen\u001b[0m\u001b[1;33m(\u001b[0m\u001b[0msrc\u001b[0m\u001b[1;33m,\u001b[0m \u001b[1;34m'rb'\u001b[0m\u001b[1;33m)\u001b[0m \u001b[1;32mas\u001b[0m \u001b[0mfsrc\u001b[0m\u001b[1;33m,\u001b[0m \u001b[0mopen\u001b[0m\u001b[1;33m(\u001b[0m\u001b[0mdst\u001b[0m\u001b[1;33m,\u001b[0m \u001b[1;34m'wb'\u001b[0m\u001b[1;33m)\u001b[0m \u001b[1;32mas\u001b[0m \u001b[0mfdst\u001b[0m\u001b[1;33m:\u001b[0m\u001b[1;33m\u001b[0m\u001b[1;33m\u001b[0m\u001b[0m\n\u001b[0m\u001b[0;32m    266\u001b[0m                 \u001b[1;31m# macOS\u001b[0m\u001b[1;33m\u001b[0m\u001b[1;33m\u001b[0m\u001b[0m\n\u001b[0;32m    267\u001b[0m                 \u001b[1;32mif\u001b[0m \u001b[0m_HAS_FCOPYFILE\u001b[0m\u001b[1;33m:\u001b[0m\u001b[1;33m\u001b[0m\u001b[1;33m\u001b[0m\u001b[0m\n",
      "\u001b[1;31mFileNotFoundError\u001b[0m: [Errno 2] No such file or directory: 'src.txt'"
     ]
    }
   ],
   "source": [
    "import shutil\n",
    "shutil.copy('src.txt', 'dst.txt')"
   ]
  },
  {
   "cell_type": "markdown",
   "id": "9f2688d0",
   "metadata": {},
   "source": [
    "만약 dst가 디렉터리 이름이라면 src라는 파일 이름으로 dst 디렉터리에 복사하고 동일한 파일 이름이 있을 경우 덮어씀"
   ]
  },
  {
   "cell_type": "markdown",
   "id": "8815e9e1",
   "metadata": {},
   "source": [
    "### glob: 특정 디렉터리에 있는 파일 이름 확인"
   ]
  },
  {
   "cell_type": "markdown",
   "id": "966cbf01",
   "metadata": {},
   "source": [
    "glob(pathname): 디렉터리에 있는 파일들을 리스트로 만듦"
   ]
  },
  {
   "cell_type": "code",
   "execution_count": 3,
   "id": "056126eb",
   "metadata": {},
   "outputs": [
    {
     "data": {
      "text/plain": [
       "[]"
      ]
     },
     "execution_count": 3,
     "metadata": {},
     "output_type": "execute_result"
    }
   ],
   "source": [
    "import glob\n",
    "glob.glob('C:\\/doit/mark*')"
   ]
  },
  {
   "cell_type": "markdown",
   "id": "9993bd23",
   "metadata": {},
   "source": [
    "### tempfile: 파일을 임시로 만들어서 사용할 때 유용"
   ]
  },
  {
   "cell_type": "markdown",
   "id": "6a2c3b0a",
   "metadata": {},
   "source": [
    "tempfile.mkstemp(): 중복되지 않는 임시 파일의 이름을 무작위로 만들어서 돌려줌"
   ]
  },
  {
   "cell_type": "code",
   "execution_count": 4,
   "id": "7609fabf",
   "metadata": {},
   "outputs": [
    {
     "data": {
      "text/plain": [
       "(4, 'C:\\\\Users\\\\NAJONG~1\\\\AppData\\\\Local\\\\Temp\\\\tmpddff5e93')"
      ]
     },
     "execution_count": 4,
     "metadata": {},
     "output_type": "execute_result"
    }
   ],
   "source": [
    "import tempfile\n",
    "filename = tempfile.mkstemp()\n",
    "filename"
   ]
  },
  {
   "cell_type": "markdown",
   "id": "e35843d7",
   "metadata": {},
   "source": [
    "tempfile.TemporaryFile(): 임시 저장 공간으로 사용할 파일 객체르 돌려줌."
   ]
  },
  {
   "cell_type": "code",
   "execution_count": 5,
   "id": "69a708d6",
   "metadata": {},
   "outputs": [],
   "source": [
    "import tempfile\n",
    "f = tempfile.TemporaryFile()\n",
    "f.close()"
   ]
  },
  {
   "cell_type": "markdown",
   "id": "a90537c9",
   "metadata": {},
   "source": [
    "### time: 시간과 관련된 모듈"
   ]
  },
  {
   "cell_type": "markdown",
   "id": "a10723b0",
   "metadata": {},
   "source": [
    "time.time(): 현재 시간을 실수 형태로 돌려줌 - 1970년 1월 1일 0시 0분 0초를 기준으로 지난 시간을 초 단위로 돌려줌"
   ]
  },
  {
   "cell_type": "code",
   "execution_count": 6,
   "id": "c08f194c",
   "metadata": {},
   "outputs": [
    {
     "data": {
      "text/plain": [
       "1649984443.221373"
      ]
     },
     "execution_count": 6,
     "metadata": {},
     "output_type": "execute_result"
    }
   ],
   "source": [
    "import time\n",
    "time.time()"
   ]
  },
  {
   "cell_type": "markdown",
   "id": "bc7e156d",
   "metadata": {},
   "source": [
    "time.localtime: time.time()이 돌려준 실수 값을 사용해서 연도, 월, 일, 시, 분, 초...의 형태로 바꾸어 줌"
   ]
  },
  {
   "cell_type": "code",
   "execution_count": 7,
   "id": "3cb18d9f",
   "metadata": {},
   "outputs": [
    {
     "data": {
      "text/plain": [
       "time.struct_time(tm_year=2022, tm_mon=4, tm_mday=15, tm_hour=9, tm_min=1, tm_sec=19, tm_wday=4, tm_yday=105, tm_isdst=0)"
      ]
     },
     "execution_count": 7,
     "metadata": {},
     "output_type": "execute_result"
    }
   ],
   "source": [
    "time.localtime(time.time())"
   ]
  },
  {
   "cell_type": "markdown",
   "id": "236c3fff",
   "metadata": {},
   "source": [
    "time.asctime: time.localtime에 의해서 반환된 튜플 형태의 값을 인수로 받아서 날짜와 시간을 알아보기 쉬운 형태로 돌려주는 함수"
   ]
  },
  {
   "cell_type": "code",
   "execution_count": 8,
   "id": "0dd52b77",
   "metadata": {},
   "outputs": [
    {
     "data": {
      "text/plain": [
       "'Fri Apr 15 09:02:16 2022'"
      ]
     },
     "execution_count": 8,
     "metadata": {},
     "output_type": "execute_result"
    }
   ],
   "source": [
    "time.asctime(time.localtime(time.time()))"
   ]
  },
  {
   "cell_type": "markdown",
   "id": "439b1cc6",
   "metadata": {},
   "source": [
    "time.ctime: time.asctime(time.localtime(time.time()))를 간편하게 표시(현재 시간만 가능)"
   ]
  },
  {
   "cell_type": "code",
   "execution_count": 9,
   "id": "9da21f0a",
   "metadata": {},
   "outputs": [
    {
     "data": {
      "text/plain": [
       "'Fri Apr 15 09:02:58 2022'"
      ]
     },
     "execution_count": 9,
     "metadata": {},
     "output_type": "execute_result"
    }
   ],
   "source": [
    "time.ctime()"
   ]
  },
  {
   "cell_type": "markdown",
   "id": "a9184668",
   "metadata": {},
   "source": [
    "time.strftime(출력할 형식 포멧 코드', time.localtime(time.time())): 시간에 관게된 것을 세밀하게 표현하는 여러 가지 포멧 코드 제공"
   ]
  },
  {
   "cell_type": "code",
   "execution_count": 10,
   "id": "9f798af9",
   "metadata": {},
   "outputs": [
    {
     "data": {
      "text/plain": [
       "'04/15/22'"
      ]
     },
     "execution_count": 10,
     "metadata": {},
     "output_type": "execute_result"
    }
   ],
   "source": [
    "import time\n",
    "time.strftime('%x', time.localtime(time.time()))"
   ]
  },
  {
   "cell_type": "code",
   "execution_count": 12,
   "id": "1631a451",
   "metadata": {},
   "outputs": [
    {
     "data": {
      "text/plain": [
       "'Fri Apr 15 09:07:03 2022'"
      ]
     },
     "execution_count": 12,
     "metadata": {},
     "output_type": "execute_result"
    }
   ],
   "source": [
    "time.strftime('%c', time.localtime(time.time()))"
   ]
  },
  {
   "cell_type": "markdown",
   "id": "c3783ff1",
   "metadata": {},
   "source": [
    "time.sleep: 일정한 시간 간격을 두고 루프를 실행"
   ]
  },
  {
   "cell_type": "code",
   "execution_count": 13,
   "id": "451cec45",
   "metadata": {},
   "outputs": [
    {
     "name": "stdout",
     "output_type": "stream",
     "text": [
      "0\n",
      "1\n",
      "2\n",
      "3\n",
      "4\n",
      "5\n",
      "6\n",
      "7\n",
      "8\n",
      "9\n"
     ]
    }
   ],
   "source": [
    "import time\n",
    "for i in range(10):\n",
    "    print(i)\n",
    "    time.sleep(1)"
   ]
  },
  {
   "cell_type": "markdown",
   "id": "bd5607a3",
   "metadata": {},
   "source": [
    "### calendar: 파이썬에서 달력을 볼 수 있게 해주는 모듈"
   ]
  },
  {
   "cell_type": "markdown",
   "id": "97a5f037",
   "metadata": {},
   "source": [
    "calendar.calendar(연도): 그 해의 전체 달력을 보여줌 (=calendar.prcal(연도))"
   ]
  },
  {
   "cell_type": "code",
   "execution_count": 14,
   "id": "06da1b93",
   "metadata": {},
   "outputs": [
    {
     "name": "stdout",
     "output_type": "stream",
     "text": [
      "                                  2022\n",
      "\n",
      "      January                   February                   March\n",
      "Mo Tu We Th Fr Sa Su      Mo Tu We Th Fr Sa Su      Mo Tu We Th Fr Sa Su\n",
      "                1  2          1  2  3  4  5  6          1  2  3  4  5  6\n",
      " 3  4  5  6  7  8  9       7  8  9 10 11 12 13       7  8  9 10 11 12 13\n",
      "10 11 12 13 14 15 16      14 15 16 17 18 19 20      14 15 16 17 18 19 20\n",
      "17 18 19 20 21 22 23      21 22 23 24 25 26 27      21 22 23 24 25 26 27\n",
      "24 25 26 27 28 29 30      28                        28 29 30 31\n",
      "31\n",
      "\n",
      "       April                      May                       June\n",
      "Mo Tu We Th Fr Sa Su      Mo Tu We Th Fr Sa Su      Mo Tu We Th Fr Sa Su\n",
      "             1  2  3                         1             1  2  3  4  5\n",
      " 4  5  6  7  8  9 10       2  3  4  5  6  7  8       6  7  8  9 10 11 12\n",
      "11 12 13 14 15 16 17       9 10 11 12 13 14 15      13 14 15 16 17 18 19\n",
      "18 19 20 21 22 23 24      16 17 18 19 20 21 22      20 21 22 23 24 25 26\n",
      "25 26 27 28 29 30         23 24 25 26 27 28 29      27 28 29 30\n",
      "                          30 31\n",
      "\n",
      "        July                     August                  September\n",
      "Mo Tu We Th Fr Sa Su      Mo Tu We Th Fr Sa Su      Mo Tu We Th Fr Sa Su\n",
      "             1  2  3       1  2  3  4  5  6  7                1  2  3  4\n",
      " 4  5  6  7  8  9 10       8  9 10 11 12 13 14       5  6  7  8  9 10 11\n",
      "11 12 13 14 15 16 17      15 16 17 18 19 20 21      12 13 14 15 16 17 18\n",
      "18 19 20 21 22 23 24      22 23 24 25 26 27 28      19 20 21 22 23 24 25\n",
      "25 26 27 28 29 30 31      29 30 31                  26 27 28 29 30\n",
      "\n",
      "      October                   November                  December\n",
      "Mo Tu We Th Fr Sa Su      Mo Tu We Th Fr Sa Su      Mo Tu We Th Fr Sa Su\n",
      "                1  2          1  2  3  4  5  6                1  2  3  4\n",
      " 3  4  5  6  7  8  9       7  8  9 10 11 12 13       5  6  7  8  9 10 11\n",
      "10 11 12 13 14 15 16      14 15 16 17 18 19 20      12 13 14 15 16 17 18\n",
      "17 18 19 20 21 22 23      21 22 23 24 25 26 27      19 20 21 22 23 24 25\n",
      "24 25 26 27 28 29 30      28 29 30                  26 27 28 29 30 31\n",
      "31\n",
      "\n"
     ]
    }
   ],
   "source": [
    "import calendar\n",
    "print(calendar.calendar(2022))"
   ]
  },
  {
   "cell_type": "markdown",
   "id": "1b08745b",
   "metadata": {},
   "source": [
    "calendar.prmonth(연도, 월): 해당 연도의 해당 월에 해당하는 달력을 보여줌"
   ]
  },
  {
   "cell_type": "code",
   "execution_count": 15,
   "id": "a65c0fb8",
   "metadata": {},
   "outputs": [
    {
     "name": "stdout",
     "output_type": "stream",
     "text": [
      "     April 2022\n",
      "Mo Tu We Th Fr Sa Su\n",
      "             1  2  3\n",
      " 4  5  6  7  8  9 10\n",
      "11 12 13 14 15 16 17\n",
      "18 19 20 21 22 23 24\n",
      "25 26 27 28 29 30\n"
     ]
    }
   ],
   "source": [
    "calendar.prmonth(2022, 4)"
   ]
  },
  {
   "cell_type": "markdown",
   "id": "a8ccfe7b",
   "metadata": {},
   "source": [
    "calendar.weekday(연도, 월, 일): 해당 날짜에 대한 요일 정보를 돌려줌"
   ]
  },
  {
   "cell_type": "code",
   "execution_count": 16,
   "id": "6a09eb1c",
   "metadata": {},
   "outputs": [
    {
     "data": {
      "text/plain": [
       "4"
      ]
     },
     "execution_count": 16,
     "metadata": {},
     "output_type": "execute_result"
    }
   ],
   "source": [
    "calendar.weekday(2022, 4, 15)"
   ]
  },
  {
   "cell_type": "markdown",
   "id": "3690e3b5",
   "metadata": {},
   "source": [
    "calendar.monthrange(연도, 월): 입력받은 달의 1일이 무슨 요일인지와 그 달이 며칠까지 있는지를 튜플 형태로 돌려줌"
   ]
  },
  {
   "cell_type": "code",
   "execution_count": 17,
   "id": "1f6ef6ba",
   "metadata": {},
   "outputs": [
    {
     "data": {
      "text/plain": [
       "(4, 30)"
      ]
     },
     "execution_count": 17,
     "metadata": {},
     "output_type": "execute_result"
    }
   ],
   "source": [
    "calendar.monthrange(2022, 4)"
   ]
  },
  {
   "cell_type": "markdown",
   "id": "07ad7cd6",
   "metadata": {},
   "source": [
    "### random: 난수를 발생시키는 모듈"
   ]
  },
  {
   "cell_type": "markdown",
   "id": "4c8038fc",
   "metadata": {},
   "source": [
    "random.random(): 0.0과 1.0 사이의 실수 중에서 난수 값 돌려줌"
   ]
  },
  {
   "cell_type": "code",
   "execution_count": 18,
   "id": "0c3e53ad",
   "metadata": {},
   "outputs": [
    {
     "data": {
      "text/plain": [
       "0.2147071394324085"
      ]
     },
     "execution_count": 18,
     "metadata": {},
     "output_type": "execute_result"
    }
   ],
   "source": [
    "import random\n",
    "random.random()"
   ]
  },
  {
   "cell_type": "markdown",
   "id": "58351daf",
   "metadata": {},
   "source": [
    "random.randint(a,b): a와 b사이의 정수 중에서 난수 값을 돌려줌"
   ]
  },
  {
   "cell_type": "code",
   "execution_count": 31,
   "id": "2dcd3573",
   "metadata": {},
   "outputs": [
    {
     "name": "stdout",
     "output_type": "stream",
     "text": [
      "5\n",
      "3\n",
      "4\n",
      "1\n",
      "2\n"
     ]
    }
   ],
   "source": [
    "# random_pop.py\n",
    "import random\n",
    "def random_pop(data):\n",
    "    number = random.randint(0, len(data)-1)\n",
    "    return data.pop(number) \n",
    "if __name__ == '__main__':\n",
    "    data = [1,2,3,4,5]\n",
    "    while data:\n",
    "        print(random_pop(data))"
   ]
  },
  {
   "cell_type": "code",
   "execution_count": 37,
   "id": "93b237b4",
   "metadata": {},
   "outputs": [],
   "source": [
    "def random_pop(data):\n",
    "    number = random.choice(data)\n",
    "    data.remove(number)\n",
    "    return number"
   ]
  },
  {
   "cell_type": "markdown",
   "id": "dab93feb",
   "metadata": {},
   "source": [
    "random.shuffle(data): data 리스트의 항목을 무작위로 섞음"
   ]
  },
  {
   "cell_type": "code",
   "execution_count": 38,
   "id": "4846156c",
   "metadata": {},
   "outputs": [
    {
     "data": {
      "text/plain": [
       "[2, 5, 3, 4, 1]"
      ]
     },
     "execution_count": 38,
     "metadata": {},
     "output_type": "execute_result"
    }
   ],
   "source": [
    "import random\n",
    "data = [1, 2, 3, 4, 5]\n",
    "random.shuffle(data)\n",
    "data"
   ]
  },
  {
   "cell_type": "markdown",
   "id": "454fa2a7",
   "metadata": {},
   "source": [
    "### webbrowser: 자신의 시스템에서 사용하는 기본 웹 브라우저를 자동으로 실행하는 모듈"
   ]
  },
  {
   "cell_type": "code",
   "execution_count": 39,
   "id": "8e76540e",
   "metadata": {},
   "outputs": [
    {
     "data": {
      "text/plain": [
       "True"
      ]
     },
     "execution_count": 39,
     "metadata": {},
     "output_type": "execute_result"
    }
   ],
   "source": [
    "import webbrowser\n",
    "webbrowser.open('http://google.com')"
   ]
  },
  {
   "cell_type": "code",
   "execution_count": 40,
   "id": "124ff8a6",
   "metadata": {},
   "outputs": [
    {
     "data": {
      "text/plain": [
       "True"
      ]
     },
     "execution_count": 40,
     "metadata": {},
     "output_type": "execute_result"
    }
   ],
   "source": [
    "webbrowser.open_new('http://google.com')"
   ]
  },
  {
   "cell_type": "markdown",
   "id": "57162328",
   "metadata": {},
   "source": [
    "### threading: 스레드를 다루는 모듈"
   ]
  },
  {
   "cell_type": "code",
   "execution_count": 41,
   "id": "8fbafc43",
   "metadata": {},
   "outputs": [
    {
     "name": "stdout",
     "output_type": "stream",
     "text": [
      "Start\n",
      "working:0\n",
      "\n",
      "working:1\n",
      "\n",
      "working:2\n",
      "\n",
      "working:3\n",
      "\n",
      "working:4\n",
      "\n",
      "working:0\n",
      "\n",
      "working:1\n",
      "\n",
      "working:2\n",
      "\n",
      "working:3\n",
      "\n",
      "working:4\n",
      "\n"
     ]
    },
    {
     "ename": "KeyboardInterrupt",
     "evalue": "",
     "output_type": "error",
     "traceback": [
      "\u001b[1;31m---------------------------------------------------------------------------\u001b[0m",
      "\u001b[1;31mKeyboardInterrupt\u001b[0m                         Traceback (most recent call last)",
      "\u001b[1;32mC:\\Users\\NAJONG~1\\AppData\\Local\\Temp/ipykernel_14544/3456115834.py\u001b[0m in \u001b[0;36m<module>\u001b[1;34m\u001b[0m\n\u001b[0;32m      8\u001b[0m \u001b[1;33m\u001b[0m\u001b[0m\n\u001b[0;32m      9\u001b[0m \u001b[1;32mfor\u001b[0m \u001b[0mi\u001b[0m \u001b[1;32min\u001b[0m \u001b[0mrange\u001b[0m\u001b[1;33m(\u001b[0m\u001b[1;36m5\u001b[0m\u001b[1;33m)\u001b[0m\u001b[1;33m:\u001b[0m \u001b[1;31m# long_task를 5회 수행한다.\u001b[0m\u001b[1;33m\u001b[0m\u001b[1;33m\u001b[0m\u001b[0m\n\u001b[1;32m---> 10\u001b[1;33m     \u001b[0mlong_task\u001b[0m\u001b[1;33m(\u001b[0m\u001b[1;33m)\u001b[0m\u001b[1;33m\u001b[0m\u001b[1;33m\u001b[0m\u001b[0m\n\u001b[0m\u001b[0;32m     11\u001b[0m \u001b[0mprint\u001b[0m\u001b[1;33m(\u001b[0m\u001b[1;34m'End'\u001b[0m\u001b[1;33m)\u001b[0m\u001b[1;33m\u001b[0m\u001b[1;33m\u001b[0m\u001b[0m\n",
      "\u001b[1;32mC:\\Users\\NAJONG~1\\AppData\\Local\\Temp/ipykernel_14544/3456115834.py\u001b[0m in \u001b[0;36mlong_task\u001b[1;34m()\u001b[0m\n\u001b[0;32m      3\u001b[0m \u001b[1;32mdef\u001b[0m \u001b[0mlong_task\u001b[0m\u001b[1;33m(\u001b[0m\u001b[1;33m)\u001b[0m\u001b[1;33m:\u001b[0m \u001b[1;31m# 5초의 시간이 걸리는 함수\u001b[0m\u001b[1;33m\u001b[0m\u001b[1;33m\u001b[0m\u001b[0m\n\u001b[0;32m      4\u001b[0m     \u001b[1;32mfor\u001b[0m \u001b[0mi\u001b[0m \u001b[1;32min\u001b[0m \u001b[0mrange\u001b[0m\u001b[1;33m(\u001b[0m\u001b[1;36m5\u001b[0m\u001b[1;33m)\u001b[0m\u001b[1;33m:\u001b[0m\u001b[1;33m\u001b[0m\u001b[1;33m\u001b[0m\u001b[0m\n\u001b[1;32m----> 5\u001b[1;33m         \u001b[0mtime\u001b[0m\u001b[1;33m.\u001b[0m\u001b[0msleep\u001b[0m\u001b[1;33m(\u001b[0m\u001b[1;36m1\u001b[0m\u001b[1;33m)\u001b[0m \u001b[1;31m# 1초간 대기한다.\u001b[0m\u001b[1;33m\u001b[0m\u001b[1;33m\u001b[0m\u001b[0m\n\u001b[0m\u001b[0;32m      6\u001b[0m         \u001b[0mprint\u001b[0m\u001b[1;33m(\u001b[0m\u001b[1;34m'working:%s\\n'\u001b[0m \u001b[1;33m%\u001b[0m \u001b[0mi\u001b[0m\u001b[1;33m)\u001b[0m\u001b[1;33m\u001b[0m\u001b[1;33m\u001b[0m\u001b[0m\n\u001b[0;32m      7\u001b[0m \u001b[0mprint\u001b[0m\u001b[1;33m(\u001b[0m\u001b[1;34m'Start'\u001b[0m\u001b[1;33m)\u001b[0m\u001b[1;33m\u001b[0m\u001b[1;33m\u001b[0m\u001b[0m\n",
      "\u001b[1;31mKeyboardInterrupt\u001b[0m: "
     ]
    }
   ],
   "source": [
    "import time\n",
    "\n",
    "def long_task(): # 5초의 시간이 걸리는 함수\n",
    "    for i in range(5):\n",
    "        time.sleep(1) # 1초간 대기한다.\n",
    "        print('working:%s\\n' % i)\n",
    "print('Start')\n",
    "\n",
    "for i in range(5): # long_task를 5회 수행한다.\n",
    "    long_task()\n",
    "print('End')\n"
   ]
  },
  {
   "cell_type": "code",
   "execution_count": 44,
   "id": "b8e5141c",
   "metadata": {},
   "outputs": [
    {
     "name": "stdout",
     "output_type": "stream",
     "text": [
      "Start\n",
      "End\n",
      "working:0\n",
      "working:0\n",
      "\n",
      "working:0\n",
      "\n",
      "working:0\n",
      "\n",
      "\n",
      "working:0\n",
      "\n",
      "working:1\n",
      "working:1\n",
      "\n",
      "working:1\n",
      "working:1\n",
      "working:1\n",
      "\n",
      "\n",
      "\n",
      "\n",
      "working:2\n",
      "working:2\n",
      "working:2\n",
      "\n",
      "working:2\n",
      "working:2\n",
      "\n",
      "\n",
      "\n",
      "\n",
      "working:3\n",
      "working:3\n",
      "working:3\n",
      "working:3\n",
      "\n",
      "\n",
      "\n",
      "\n",
      "working:3\n",
      "\n",
      "working:4\n",
      "working:4\n",
      "\n",
      "working:4\n",
      "working:4\n",
      "working:4\n",
      "\n",
      "\n",
      "\n",
      "\n"
     ]
    }
   ],
   "source": [
    "# thread_test.py\n",
    "import time\n",
    "import threading # 스레드를 생성하기 위해서 threading 모듈 필요\n",
    "\n",
    "def long_task():\n",
    "    for i in range(5):\n",
    "        time.sleep(1)\n",
    "        print('working:%s\\n' % i)\n",
    "print('Start')\n",
    "\n",
    "threads = []\n",
    "for i in range(5):\n",
    "    t = threading.Thread(target = long_task) # 스레드를 생성한다.\n",
    "    threads.append(t)\n",
    "    \n",
    "for t in threads:\n",
    "    t.start() # 스레드를 실행한다.\n",
    "print('End')"
   ]
  },
  {
   "cell_type": "code",
   "execution_count": 45,
   "id": "c5978bce",
   "metadata": {},
   "outputs": [
    {
     "name": "stdout",
     "output_type": "stream",
     "text": [
      "Start\n",
      "working:0\n",
      "working:0\n",
      "\n",
      "working:0\n",
      "\n",
      "working:0\n",
      "\n",
      "\n",
      "working:0\n",
      "\n",
      "working:1\n",
      "working:1\n",
      "\n",
      "\n",
      "working:1\n",
      "working:1\n",
      "working:1\n",
      "\n",
      "\n",
      "\n",
      "working:2\n",
      "working:2\n",
      "\n",
      "\n",
      "working:2\n",
      "working:2\n",
      "working:2\n",
      "\n",
      "\n",
      "\n",
      "working:3\n",
      "working:3\n",
      "\n",
      "\n",
      "working:3\n",
      "working:3\n",
      "working:3\n",
      "\n",
      "\n",
      "\n",
      "working:4\n",
      "working:4\n",
      "\n",
      "\n",
      "working:4\n",
      "working:4\n",
      "\n",
      "working:4\n",
      "\n",
      "\n",
      "End\n"
     ]
    }
   ],
   "source": [
    "# thread_test.py\n",
    "import time\n",
    "import threading # 스레드를 생성하기 위해서 threading 모듈 필요\n",
    "\n",
    "def long_task():\n",
    "    for i in range(5):\n",
    "        time.sleep(1)\n",
    "        print('working:%s\\n' % i)\n",
    "print('Start')\n",
    "\n",
    "threads = []\n",
    "for i in range(5):\n",
    "    t = threading.Thread(target = long_task) # 스레드를 생성한다.\n",
    "    threads.append(t)\n",
    "    \n",
    "for t in threads:\n",
    "    t.start() # 스레드를 실행한다.\n",
    "    \n",
    "for t in threads:\n",
    "    t.join() # join으로 스레드가 종료될 때까지 기다린다.\n",
    "print('End')"
   ]
  },
  {
   "cell_type": "markdown",
   "id": "fceb595a",
   "metadata": {},
   "source": [
    "# 5장 연습문제"
   ]
  },
  {
   "cell_type": "markdown",
   "id": "53c1c703",
   "metadata": {},
   "source": [
    "### Q1"
   ]
  },
  {
   "cell_type": "code",
   "execution_count": 46,
   "id": "d4d235c4",
   "metadata": {},
   "outputs": [],
   "source": [
    "class Calculator:\n",
    "    def __init__(self):\n",
    "        self.value = 0\n",
    "\n",
    "    def add(self, val):\n",
    "        self.value += val"
   ]
  },
  {
   "cell_type": "code",
   "execution_count": 47,
   "id": "8fd4e0a2",
   "metadata": {},
   "outputs": [],
   "source": [
    "class UpgradeCalculator(Calculator):\n",
    "    def minus(self, val):\n",
    "        self.value -= val"
   ]
  },
  {
   "cell_type": "code",
   "execution_count": 49,
   "id": "eeae600b",
   "metadata": {},
   "outputs": [],
   "source": [
    "cal = UpgradeCalculator()"
   ]
  },
  {
   "cell_type": "code",
   "execution_count": 50,
   "id": "8b0c3ca8",
   "metadata": {},
   "outputs": [],
   "source": [
    "cal.add(10)"
   ]
  },
  {
   "cell_type": "code",
   "execution_count": 51,
   "id": "b8982a49",
   "metadata": {},
   "outputs": [],
   "source": [
    "cal.minus(7)"
   ]
  },
  {
   "cell_type": "code",
   "execution_count": 52,
   "id": "9853e8ed",
   "metadata": {},
   "outputs": [
    {
     "name": "stdout",
     "output_type": "stream",
     "text": [
      "3\n"
     ]
    }
   ],
   "source": [
    "print(cal.value)"
   ]
  },
  {
   "cell_type": "markdown",
   "id": "6788c002",
   "metadata": {},
   "source": [
    "### Q2"
   ]
  },
  {
   "cell_type": "code",
   "execution_count": 53,
   "id": "e9893507",
   "metadata": {},
   "outputs": [],
   "source": [
    "class MaxLimitCalculator(Calculator):\n",
    "    def add(self, val):\n",
    "        if self.value + val <= 100:\n",
    "            self.value += val\n",
    "        else:\n",
    "            self.value = 100"
   ]
  },
  {
   "cell_type": "code",
   "execution_count": 55,
   "id": "5c84bb19",
   "metadata": {},
   "outputs": [
    {
     "name": "stdout",
     "output_type": "stream",
     "text": [
      "100\n"
     ]
    }
   ],
   "source": [
    "cal = MaxLimitCalculator()\n",
    "cal.add(50)\n",
    "cal.add(60)\n",
    "print(cal.value)"
   ]
  },
  {
   "cell_type": "markdown",
   "id": "82d4ee15",
   "metadata": {},
   "source": [
    "### Q3"
   ]
  },
  {
   "cell_type": "code",
   "execution_count": null,
   "id": "99d48590",
   "metadata": {},
   "outputs": [],
   "source": [
    "1. False\n",
    "2. True"
   ]
  },
  {
   "cell_type": "code",
   "execution_count": 56,
   "id": "b59b129f",
   "metadata": {},
   "outputs": [
    {
     "data": {
      "text/plain": [
       "False"
      ]
     },
     "execution_count": 56,
     "metadata": {},
     "output_type": "execute_result"
    }
   ],
   "source": [
    "all([1, 2, abs(-3) - 3])"
   ]
  },
  {
   "cell_type": "code",
   "execution_count": 57,
   "id": "04e7653c",
   "metadata": {},
   "outputs": [
    {
     "data": {
      "text/plain": [
       "True"
      ]
     },
     "execution_count": 57,
     "metadata": {},
     "output_type": "execute_result"
    }
   ],
   "source": [
    "chr(ord('a')) == 'a'"
   ]
  },
  {
   "cell_type": "markdown",
   "id": "2a2d6b79",
   "metadata": {},
   "source": [
    "### Q4"
   ]
  },
  {
   "cell_type": "code",
   "execution_count": 60,
   "id": "19708877",
   "metadata": {},
   "outputs": [
    {
     "data": {
      "text/plain": [
       "[1, 3, 8]"
      ]
     },
     "execution_count": 60,
     "metadata": {},
     "output_type": "execute_result"
    }
   ],
   "source": [
    "data = [1, -2, 3, -5, 8, -3]\n",
    "list(filter(lambda x: x>=0, data))"
   ]
  },
  {
   "cell_type": "markdown",
   "id": "94b3b432",
   "metadata": {},
   "source": [
    "### Q5"
   ]
  },
  {
   "cell_type": "code",
   "execution_count": 62,
   "id": "9cfb8d9a",
   "metadata": {},
   "outputs": [
    {
     "data": {
      "text/plain": [
       "234"
      ]
     },
     "execution_count": 62,
     "metadata": {},
     "output_type": "execute_result"
    }
   ],
   "source": [
    "int('0xea', 16)"
   ]
  },
  {
   "cell_type": "markdown",
   "id": "70d2e652",
   "metadata": {},
   "source": [
    "### Q6"
   ]
  },
  {
   "cell_type": "code",
   "execution_count": 64,
   "id": "9e8d1573",
   "metadata": {},
   "outputs": [
    {
     "data": {
      "text/plain": [
       "[3, 6, 9, 12]"
      ]
     },
     "execution_count": 64,
     "metadata": {},
     "output_type": "execute_result"
    }
   ],
   "source": [
    "list(map(lambda x: 3*x, [1,2,3,4]))"
   ]
  },
  {
   "cell_type": "markdown",
   "id": "db0b6759",
   "metadata": {},
   "source": [
    "### Q7"
   ]
  },
  {
   "cell_type": "code",
   "execution_count": 67,
   "id": "52e6e66e",
   "metadata": {},
   "outputs": [
    {
     "name": "stdout",
     "output_type": "stream",
     "text": [
      "-1\n"
     ]
    }
   ],
   "source": [
    "data = [-8, 2, 7, 5, -3, 5, 0 ,1]\n",
    "print((max(data) + min(data)))"
   ]
  },
  {
   "cell_type": "markdown",
   "id": "7ddff05a",
   "metadata": {},
   "source": [
    "### Q8"
   ]
  },
  {
   "cell_type": "code",
   "execution_count": 68,
   "id": "e45b83b0",
   "metadata": {},
   "outputs": [
    {
     "data": {
      "text/plain": [
       "5.6667"
      ]
     },
     "execution_count": 68,
     "metadata": {},
     "output_type": "execute_result"
    }
   ],
   "source": [
    "round(17/3, 4)"
   ]
  },
  {
   "cell_type": "markdown",
   "id": "7a32263d",
   "metadata": {},
   "source": [
    "### Q9"
   ]
  },
  {
   "cell_type": "code",
   "execution_count": null,
   "id": "a5358cdb",
   "metadata": {},
   "outputs": [],
   "source": [
    "import sys\n",
    "print(sum(sys.argv))"
   ]
  },
  {
   "cell_type": "markdown",
   "id": "20252ca5",
   "metadata": {},
   "source": [
    "### Q10"
   ]
  },
  {
   "cell_type": "code",
   "execution_count": 70,
   "id": "b8deeded",
   "metadata": {},
   "outputs": [],
   "source": [
    "import os\n",
    "os.chdir('C:\\/doit')"
   ]
  },
  {
   "cell_type": "code",
   "execution_count": 72,
   "id": "7670fb68",
   "metadata": {},
   "outputs": [
    {
     "name": "stdout",
     "output_type": "stream",
     "text": [
      "<os._wrap_close object at 0x00000169AA5D4D90>\n"
     ]
    }
   ],
   "source": [
    "result = os.popen('dir')\n",
    "print(result)"
   ]
  },
  {
   "cell_type": "code",
   "execution_count": 73,
   "id": "471e82c9",
   "metadata": {},
   "outputs": [
    {
     "name": "stdout",
     "output_type": "stream",
     "text": [
      " C 드라이브의 볼륨에는 이름이 없습니다.\n",
      " 볼륨 일련 번호: 6EE7-6EB5\n",
      "\n",
      " C:\\doit 디렉터리\n",
      "\n",
      "2022-04-15  오전 09:55    <DIR>          .\n",
      "2022-04-15  오전 09:55    <DIR>          ..\n",
      "2022-04-13  오전 11:08    <DIR>          game\n",
      "2022-04-13  오전 10:44               155 mod1.py\n",
      "2022-04-14  오전 10:29                45 modtest - 복사본.py\n",
      "2022-04-13  오전 10:50                66 modtest.py\n",
      "2022-04-15  오전 10:02               189 myargv.py\n",
      "2022-04-14  오전 10:29    <DIR>          mymod\n",
      "2022-04-13  오전 10:50    <DIR>          __pycache__\n",
      "               4개 파일                 455 바이트\n",
      "               5개 디렉터리  82,227,113,984 바이트 남음\n",
      "\n"
     ]
    }
   ],
   "source": [
    "print(result.read())"
   ]
  },
  {
   "cell_type": "markdown",
   "id": "4f1364aa",
   "metadata": {},
   "source": [
    "### Q11"
   ]
  },
  {
   "cell_type": "code",
   "execution_count": 75,
   "id": "2605c6bb",
   "metadata": {},
   "outputs": [
    {
     "data": {
      "text/plain": [
       "['C:\\\\doit\\\\mod1.py',\n",
       " 'C:\\\\doit\\\\modtest - 복사본.py',\n",
       " 'C:\\\\doit\\\\modtest.py',\n",
       " 'C:\\\\doit\\\\myargv.py']"
      ]
     },
     "execution_count": 75,
     "metadata": {},
     "output_type": "execute_result"
    }
   ],
   "source": [
    "import glob\n",
    "glob.glob('C:\\doit\\*.py')"
   ]
  },
  {
   "cell_type": "markdown",
   "id": "36c5e963",
   "metadata": {},
   "source": [
    "### Q12"
   ]
  },
  {
   "cell_type": "code",
   "execution_count": 76,
   "id": "4d6696d0",
   "metadata": {},
   "outputs": [],
   "source": [
    "import time"
   ]
  },
  {
   "cell_type": "code",
   "execution_count": 79,
   "id": "448c1b72",
   "metadata": {},
   "outputs": [
    {
     "data": {
      "text/plain": [
       "'2022/04/15 10:12:25'"
      ]
     },
     "execution_count": 79,
     "metadata": {},
     "output_type": "execute_result"
    }
   ],
   "source": [
    "time.strftime('%Y/%m/%d %X', time.localtime(time.time()))"
   ]
  },
  {
   "cell_type": "markdown",
   "id": "23d1123c",
   "metadata": {},
   "source": [
    "### Q13"
   ]
  },
  {
   "cell_type": "code",
   "execution_count": 80,
   "id": "a7384763",
   "metadata": {},
   "outputs": [],
   "source": [
    "import random"
   ]
  },
  {
   "cell_type": "code",
   "execution_count": 88,
   "id": "ccebb9d1",
   "metadata": {},
   "outputs": [],
   "source": [
    "numbers = list(range(1,46))"
   ]
  },
  {
   "cell_type": "code",
   "execution_count": 90,
   "id": "1639276a",
   "metadata": {},
   "outputs": [
    {
     "name": "stdout",
     "output_type": "stream",
     "text": [
      "[4, 31, 37, 10, 38]\n"
     ]
    }
   ],
   "source": [
    "result = []\n",
    "for _ in range(5):\n",
    "    val = random.choice(numbers)\n",
    "    numbers.remove(val)\n",
    "    result.append(val)\n",
    "print(result)"
   ]
  }
 ],
 "metadata": {
  "kernelspec": {
   "display_name": "pytorch",
   "language": "python",
   "name": "pt1.1"
  },
  "language_info": {
   "codemirror_mode": {
    "name": "ipython",
    "version": 3
   },
   "file_extension": ".py",
   "mimetype": "text/x-python",
   "name": "python",
   "nbconvert_exporter": "python",
   "pygments_lexer": "ipython3",
   "version": "3.9.7"
  }
 },
 "nbformat": 4,
 "nbformat_minor": 5
}
