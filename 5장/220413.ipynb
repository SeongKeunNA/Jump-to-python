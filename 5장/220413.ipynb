{
 "cells": [
  {
   "cell_type": "markdown",
   "id": "630f7a02",
   "metadata": {},
   "source": [
    "# 05-1 클래스"
   ]
  },
  {
   "cell_type": "markdown",
   "id": "d216ee9f",
   "metadata": {},
   "source": [
    "# 출처: https://wikidocs.net/28"
   ]
  },
  {
   "cell_type": "code",
   "execution_count": 2,
   "id": "63383f31",
   "metadata": {},
   "outputs": [
    {
     "name": "stdout",
     "output_type": "stream",
     "text": [
      "3\n",
      "7\n",
      "3\n",
      "10\n"
     ]
    }
   ],
   "source": [
    "class Calculator:\n",
    "    def __init__(self):\n",
    "        self.result = 0\n",
    "        \n",
    "    def add(self, num):\n",
    "        self.result += num\n",
    "        return self.result\n",
    "    \n",
    "    def sub(self, num):\n",
    "        self.result -= num\n",
    "        return self.result\n",
    "    \n",
    "cal1 = Calculator()\n",
    "cal2 = Calculator()\n",
    "\n",
    "print(cal1.add(3))\n",
    "print(cal1.add(4))\n",
    "print(cal2.add(3))\n",
    "print(cal2.add(7))"
   ]
  },
  {
   "cell_type": "code",
   "execution_count": 3,
   "id": "348a8e8f",
   "metadata": {},
   "outputs": [],
   "source": [
    "class Cookie:\n",
    "    pass"
   ]
  },
  {
   "cell_type": "code",
   "execution_count": 4,
   "id": "2a0e52f5",
   "metadata": {},
   "outputs": [],
   "source": [
    "a = Cookie()\n",
    "b = Cookie()"
   ]
  },
  {
   "cell_type": "code",
   "execution_count": 5,
   "id": "37214b9e",
   "metadata": {},
   "outputs": [
    {
     "data": {
      "text/plain": [
       "<__main__.Cookie at 0x13b6f869fd0>"
      ]
     },
     "execution_count": 5,
     "metadata": {},
     "output_type": "execute_result"
    }
   ],
   "source": [
    "a"
   ]
  },
  {
   "cell_type": "markdown",
   "id": "b45d27bc",
   "metadata": {},
   "source": [
    "[객체와 인스턴스의 차이]\n",
    "클래스로 만든 객체를 인스턴스라고도 한다.\n",
    "그렇다면 객체와 인스턴스의 차이는 무엇일까?\n",
    "이렇게 생각해 보자. a = Cookie() 이렇게 만든 a는 객체이다.\n",
    "그리고 a 객체는 Cookie의 인스턴스이다.\n",
    "즉 인스턴스라는 말은 특정 객체(a)가 어떤 클래스(Cookie)의 객체인지를 관계 위주로 설명할 때 사용한다.\n",
    "\"a는 인스턴스\"보다는 \"a는 객체\"라는 표현이 어울리며 \"a는 Cookie의 객체\"보다는 \"a는 Cookie의 인스턴스\"라는 표현이 훨씬 잘 어울린다."
   ]
  },
  {
   "cell_type": "markdown",
   "id": "994bf857",
   "metadata": {},
   "source": [
    "### 목표 설정"
   ]
  },
  {
   "cell_type": "code",
   "execution_count": 6,
   "id": "20009a2d",
   "metadata": {},
   "outputs": [
    {
     "ename": "NameError",
     "evalue": "name 'Fourcal' is not defined",
     "output_type": "error",
     "traceback": [
      "\u001b[1;31m---------------------------------------------------------------------------\u001b[0m",
      "\u001b[1;31mNameError\u001b[0m                                 Traceback (most recent call last)",
      "\u001b[1;32mC:\\Users\\NAJONG~1\\AppData\\Local\\Temp/ipykernel_19620/293225980.py\u001b[0m in \u001b[0;36m<module>\u001b[1;34m\u001b[0m\n\u001b[1;32m----> 1\u001b[1;33m \u001b[0ma\u001b[0m \u001b[1;33m=\u001b[0m \u001b[0mFourcal\u001b[0m\u001b[1;33m(\u001b[0m\u001b[1;33m)\u001b[0m\u001b[1;33m\u001b[0m\u001b[1;33m\u001b[0m\u001b[0m\n\u001b[0m",
      "\u001b[1;31mNameError\u001b[0m: name 'Fourcal' is not defined"
     ]
    }
   ],
   "source": [
    "a = Fourcal()\n",
    "a.setdata(4, 2)\n",
    "print(a.add())\n",
    "print(a.mul())\n",
    "print(a.sub())\n",
    "print(a.div())"
   ]
  },
  {
   "cell_type": "code",
   "execution_count": 7,
   "id": "aa71f332",
   "metadata": {},
   "outputs": [],
   "source": [
    "class Fourcal:\n",
    "    pass"
   ]
  },
  {
   "cell_type": "code",
   "execution_count": 8,
   "id": "5a93175c",
   "metadata": {},
   "outputs": [
    {
     "data": {
      "text/plain": [
       "__main__.Fourcal"
      ]
     },
     "execution_count": 8,
     "metadata": {},
     "output_type": "execute_result"
    }
   ],
   "source": [
    "a = Fourcal()\n",
    "type(a)"
   ]
  },
  {
   "cell_type": "code",
   "execution_count": 9,
   "id": "4e935054",
   "metadata": {},
   "outputs": [],
   "source": [
    "class Fourcal:\n",
    "    def setdata(self, first, second):\n",
    "        self.first = first\n",
    "        self.second = second"
   ]
  },
  {
   "cell_type": "markdown",
   "id": "3f18b5cc",
   "metadata": {},
   "source": [
    "클래스 내부의 함수 = 메서드"
   ]
  },
  {
   "cell_type": "code",
   "execution_count": 10,
   "id": "10037d20",
   "metadata": {},
   "outputs": [],
   "source": [
    "a = Fourcal()\n",
    "a.setdata(4, 2)"
   ]
  },
  {
   "cell_type": "markdown",
   "id": "614a1b7c",
   "metadata": {},
   "source": [
    "self: 객체 a를 가리킴 (self말고 다른 이름을 사용해도 상관없지만 self를 관례적으로 사용)"
   ]
  },
  {
   "cell_type": "markdown",
   "id": "0d56a541",
   "metadata": {},
   "source": [
    "### 메서드의 또 다른 호출 방법"
   ]
  },
  {
   "cell_type": "code",
   "execution_count": 11,
   "id": "4304fee0",
   "metadata": {},
   "outputs": [],
   "source": [
    "a = Fourcal()\n",
    "Fourcal.setdata(a, 4, 2)"
   ]
  },
  {
   "cell_type": "code",
   "execution_count": 12,
   "id": "e72d188c",
   "metadata": {},
   "outputs": [
    {
     "name": "stdout",
     "output_type": "stream",
     "text": [
      "4\n",
      "2\n"
     ]
    }
   ],
   "source": [
    "a = Fourcal()\n",
    "a.setdata(4, 2)\n",
    "print(a.first)\n",
    "print(a.second)"
   ]
  },
  {
   "cell_type": "code",
   "execution_count": 13,
   "id": "a90a810e",
   "metadata": {},
   "outputs": [],
   "source": [
    "a = Fourcal()\n",
    "b = Fourcal()"
   ]
  },
  {
   "cell_type": "code",
   "execution_count": 14,
   "id": "1aec7fff",
   "metadata": {},
   "outputs": [
    {
     "name": "stdout",
     "output_type": "stream",
     "text": [
      "4\n"
     ]
    }
   ],
   "source": [
    "a.setdata(4, 2)\n",
    "print(a.first)"
   ]
  },
  {
   "cell_type": "code",
   "execution_count": 15,
   "id": "91e4d52f",
   "metadata": {},
   "outputs": [
    {
     "name": "stdout",
     "output_type": "stream",
     "text": [
      "3\n"
     ]
    }
   ],
   "source": [
    "b.setdata(3, 7)\n",
    "print(b.first)"
   ]
  },
  {
   "cell_type": "code",
   "execution_count": 16,
   "id": "cea06b39",
   "metadata": {},
   "outputs": [
    {
     "data": {
      "text/plain": [
       "1354121570704"
      ]
     },
     "execution_count": 16,
     "metadata": {},
     "output_type": "execute_result"
    }
   ],
   "source": [
    "id(a.first)"
   ]
  },
  {
   "cell_type": "code",
   "execution_count": 17,
   "id": "d68c1b07",
   "metadata": {},
   "outputs": [
    {
     "data": {
      "text/plain": [
       "1354121570672"
      ]
     },
     "execution_count": 17,
     "metadata": {},
     "output_type": "execute_result"
    }
   ],
   "source": [
    "id(b.first)"
   ]
  },
  {
   "cell_type": "code",
   "execution_count": 18,
   "id": "3e0ac71e",
   "metadata": {},
   "outputs": [],
   "source": [
    "class Fourcal:\n",
    "    def setdata(self, first, second):\n",
    "        self.first = first\n",
    "        self.second = second\n",
    "    def add(self):\n",
    "        result = self.first + self.second\n",
    "        return result"
   ]
  },
  {
   "cell_type": "code",
   "execution_count": 19,
   "id": "303ab64f",
   "metadata": {},
   "outputs": [],
   "source": [
    "a = Fourcal()\n",
    "a.setdata(4, 2)"
   ]
  },
  {
   "cell_type": "code",
   "execution_count": 20,
   "id": "6f4f1b68",
   "metadata": {},
   "outputs": [
    {
     "name": "stdout",
     "output_type": "stream",
     "text": [
      "6\n"
     ]
    }
   ],
   "source": [
    "print(a.add())"
   ]
  },
  {
   "cell_type": "code",
   "execution_count": 21,
   "id": "4578bcc2",
   "metadata": {},
   "outputs": [],
   "source": [
    "class Fourcal:\n",
    "    def setdata(self, first, second):\n",
    "        self.first = first\n",
    "        self.second = second\n",
    "        \n",
    "    def add(self):\n",
    "        result = self.first + self.second\n",
    "        return result\n",
    "    \n",
    "    def mul(self):\n",
    "        result = self.first * self.second\n",
    "        return result\n",
    "    \n",
    "    def sub(self):\n",
    "        result = self.first - self.second\n",
    "        return result\n",
    "    \n",
    "    def div(self):\n",
    "        result = self.first / self.second\n",
    "        return result"
   ]
  },
  {
   "cell_type": "code",
   "execution_count": 22,
   "id": "b030229c",
   "metadata": {},
   "outputs": [],
   "source": [
    "a = Fourcal()\n",
    "b = Fourcal()\n",
    "a.setdata(4, 2)\n",
    "b.setdata(3, 8)"
   ]
  },
  {
   "cell_type": "code",
   "execution_count": 23,
   "id": "a7574480",
   "metadata": {},
   "outputs": [
    {
     "data": {
      "text/plain": [
       "6"
      ]
     },
     "execution_count": 23,
     "metadata": {},
     "output_type": "execute_result"
    }
   ],
   "source": [
    "a.add()"
   ]
  },
  {
   "cell_type": "code",
   "execution_count": 24,
   "id": "8ee3b9a6",
   "metadata": {},
   "outputs": [
    {
     "data": {
      "text/plain": [
       "8"
      ]
     },
     "execution_count": 24,
     "metadata": {},
     "output_type": "execute_result"
    }
   ],
   "source": [
    "a.mul()"
   ]
  },
  {
   "cell_type": "code",
   "execution_count": 25,
   "id": "95a9ce51",
   "metadata": {},
   "outputs": [
    {
     "data": {
      "text/plain": [
       "2"
      ]
     },
     "execution_count": 25,
     "metadata": {},
     "output_type": "execute_result"
    }
   ],
   "source": [
    "a.sub()"
   ]
  },
  {
   "cell_type": "code",
   "execution_count": 26,
   "id": "b60a0963",
   "metadata": {},
   "outputs": [
    {
     "data": {
      "text/plain": [
       "2.0"
      ]
     },
     "execution_count": 26,
     "metadata": {},
     "output_type": "execute_result"
    }
   ],
   "source": [
    "a.div()"
   ]
  },
  {
   "cell_type": "code",
   "execution_count": 27,
   "id": "849f8e98",
   "metadata": {},
   "outputs": [
    {
     "data": {
      "text/plain": [
       "11"
      ]
     },
     "execution_count": 27,
     "metadata": {},
     "output_type": "execute_result"
    }
   ],
   "source": [
    "b.add()"
   ]
  },
  {
   "cell_type": "code",
   "execution_count": 28,
   "id": "eb627842",
   "metadata": {},
   "outputs": [
    {
     "data": {
      "text/plain": [
       "24"
      ]
     },
     "execution_count": 28,
     "metadata": {},
     "output_type": "execute_result"
    }
   ],
   "source": [
    "b.mul()"
   ]
  },
  {
   "cell_type": "code",
   "execution_count": 29,
   "id": "4e37b2d4",
   "metadata": {},
   "outputs": [
    {
     "data": {
      "text/plain": [
       "-5"
      ]
     },
     "execution_count": 29,
     "metadata": {},
     "output_type": "execute_result"
    }
   ],
   "source": [
    "b.sub()"
   ]
  },
  {
   "cell_type": "code",
   "execution_count": 30,
   "id": "60001f4c",
   "metadata": {},
   "outputs": [
    {
     "data": {
      "text/plain": [
       "0.375"
      ]
     },
     "execution_count": 30,
     "metadata": {},
     "output_type": "execute_result"
    }
   ],
   "source": [
    "b.div()"
   ]
  },
  {
   "cell_type": "markdown",
   "id": "c49860ae",
   "metadata": {},
   "source": [
    "### 생성자(constructor)"
   ]
  },
  {
   "cell_type": "markdown",
   "id": "a5b15aaa",
   "metadata": {},
   "source": [
    "생성자: 객체가 생성될 때 자동으로 호출되는 메서드"
   ]
  },
  {
   "cell_type": "code",
   "execution_count": 32,
   "id": "93eb49d2",
   "metadata": {},
   "outputs": [],
   "source": [
    "class Fourcal:\n",
    "    def __init__(self,first,second):\n",
    "        self.first = first\n",
    "        self.second = second\n",
    "    def setdata(self, first, second):\n",
    "        self.first = first\n",
    "        self.second = second\n",
    "        \n",
    "    def add(self):\n",
    "        result = self.first + self.second\n",
    "        return result\n",
    "    \n",
    "    def mul(self):\n",
    "        result = self.first * self.second\n",
    "        return result\n",
    "    \n",
    "    def sub(self):\n",
    "        result = self.first - self.second\n",
    "        return result\n",
    "    \n",
    "    def div(self):\n",
    "        result = self.first / self.second\n",
    "        return result"
   ]
  },
  {
   "cell_type": "code",
   "execution_count": 33,
   "id": "a0886543",
   "metadata": {},
   "outputs": [],
   "source": [
    "a = Fourcal(4, 2)"
   ]
  },
  {
   "cell_type": "code",
   "execution_count": 34,
   "id": "6c5376c1",
   "metadata": {},
   "outputs": [
    {
     "name": "stdout",
     "output_type": "stream",
     "text": [
      "4\n"
     ]
    }
   ],
   "source": [
    "print(a.first)"
   ]
  },
  {
   "cell_type": "code",
   "execution_count": 35,
   "id": "4167fcee",
   "metadata": {},
   "outputs": [
    {
     "name": "stdout",
     "output_type": "stream",
     "text": [
      "2\n"
     ]
    }
   ],
   "source": [
    "print(a.second)"
   ]
  },
  {
   "cell_type": "code",
   "execution_count": 36,
   "id": "0ff055b6",
   "metadata": {},
   "outputs": [
    {
     "data": {
      "text/plain": [
       "6"
      ]
     },
     "execution_count": 36,
     "metadata": {},
     "output_type": "execute_result"
    }
   ],
   "source": [
    "a.add()"
   ]
  },
  {
   "cell_type": "code",
   "execution_count": 37,
   "id": "6f1fbc22",
   "metadata": {},
   "outputs": [
    {
     "data": {
      "text/plain": [
       "2.0"
      ]
     },
     "execution_count": 37,
     "metadata": {},
     "output_type": "execute_result"
    }
   ],
   "source": [
    "a.div()"
   ]
  },
  {
   "cell_type": "code",
   "execution_count": 38,
   "id": "9c1f666a",
   "metadata": {},
   "outputs": [],
   "source": [
    "class MoreFourCal(Fourcal):\n",
    "    pass"
   ]
  },
  {
   "cell_type": "code",
   "execution_count": 40,
   "id": "d1114012",
   "metadata": {},
   "outputs": [
    {
     "data": {
      "text/plain": [
       "6"
      ]
     },
     "execution_count": 40,
     "metadata": {},
     "output_type": "execute_result"
    }
   ],
   "source": [
    "a = MoreFourCal(4, 2)\n",
    "a.add()"
   ]
  },
  {
   "cell_type": "code",
   "execution_count": 41,
   "id": "dcafa775",
   "metadata": {},
   "outputs": [
    {
     "data": {
      "text/plain": [
       "8"
      ]
     },
     "execution_count": 41,
     "metadata": {},
     "output_type": "execute_result"
    }
   ],
   "source": [
    "a.mul()"
   ]
  },
  {
   "cell_type": "code",
   "execution_count": 42,
   "id": "15489d8e",
   "metadata": {},
   "outputs": [
    {
     "data": {
      "text/plain": [
       "2"
      ]
     },
     "execution_count": 42,
     "metadata": {},
     "output_type": "execute_result"
    }
   ],
   "source": [
    "a.sub()"
   ]
  },
  {
   "cell_type": "code",
   "execution_count": 43,
   "id": "9c69f13b",
   "metadata": {},
   "outputs": [
    {
     "data": {
      "text/plain": [
       "2.0"
      ]
     },
     "execution_count": 43,
     "metadata": {},
     "output_type": "execute_result"
    }
   ],
   "source": [
    "a.div()"
   ]
  },
  {
   "cell_type": "code",
   "execution_count": 44,
   "id": "edd5edeb",
   "metadata": {},
   "outputs": [],
   "source": [
    "class MoreFourCal(Fourcal):\n",
    "    def pow(self):\n",
    "        result = self.first ** self.second\n",
    "        return result"
   ]
  },
  {
   "cell_type": "code",
   "execution_count": 45,
   "id": "ac5d5f81",
   "metadata": {},
   "outputs": [
    {
     "data": {
      "text/plain": [
       "16"
      ]
     },
     "execution_count": 45,
     "metadata": {},
     "output_type": "execute_result"
    }
   ],
   "source": [
    "a = MoreFourCal(4, 2)\n",
    "a.pow()"
   ]
  },
  {
   "cell_type": "markdown",
   "id": "07b82814",
   "metadata": {},
   "source": [
    "### 메서드 오버라이딩"
   ]
  },
  {
   "cell_type": "code",
   "execution_count": 47,
   "id": "e5b3deec",
   "metadata": {},
   "outputs": [
    {
     "ename": "ZeroDivisionError",
     "evalue": "division by zero",
     "output_type": "error",
     "traceback": [
      "\u001b[1;31m---------------------------------------------------------------------------\u001b[0m",
      "\u001b[1;31mZeroDivisionError\u001b[0m                         Traceback (most recent call last)",
      "\u001b[1;32mC:\\Users\\NAJONG~1\\AppData\\Local\\Temp/ipykernel_19620/3045333100.py\u001b[0m in \u001b[0;36m<module>\u001b[1;34m\u001b[0m\n\u001b[0;32m      1\u001b[0m \u001b[0ma\u001b[0m \u001b[1;33m=\u001b[0m \u001b[0mFourcal\u001b[0m\u001b[1;33m(\u001b[0m\u001b[1;36m4\u001b[0m\u001b[1;33m,\u001b[0m \u001b[1;36m0\u001b[0m\u001b[1;33m)\u001b[0m\u001b[1;33m\u001b[0m\u001b[1;33m\u001b[0m\u001b[0m\n\u001b[1;32m----> 2\u001b[1;33m \u001b[0ma\u001b[0m\u001b[1;33m.\u001b[0m\u001b[0mdiv\u001b[0m\u001b[1;33m(\u001b[0m\u001b[1;33m)\u001b[0m\u001b[1;33m\u001b[0m\u001b[1;33m\u001b[0m\u001b[0m\n\u001b[0m",
      "\u001b[1;32mC:\\Users\\NAJONG~1\\AppData\\Local\\Temp/ipykernel_19620/2621983684.py\u001b[0m in \u001b[0;36mdiv\u001b[1;34m(self)\u001b[0m\n\u001b[0;32m     20\u001b[0m \u001b[1;33m\u001b[0m\u001b[0m\n\u001b[0;32m     21\u001b[0m     \u001b[1;32mdef\u001b[0m \u001b[0mdiv\u001b[0m\u001b[1;33m(\u001b[0m\u001b[0mself\u001b[0m\u001b[1;33m)\u001b[0m\u001b[1;33m:\u001b[0m\u001b[1;33m\u001b[0m\u001b[1;33m\u001b[0m\u001b[0m\n\u001b[1;32m---> 22\u001b[1;33m         \u001b[0mresult\u001b[0m \u001b[1;33m=\u001b[0m \u001b[0mself\u001b[0m\u001b[1;33m.\u001b[0m\u001b[0mfirst\u001b[0m \u001b[1;33m/\u001b[0m \u001b[0mself\u001b[0m\u001b[1;33m.\u001b[0m\u001b[0msecond\u001b[0m\u001b[1;33m\u001b[0m\u001b[1;33m\u001b[0m\u001b[0m\n\u001b[0m\u001b[0;32m     23\u001b[0m         \u001b[1;32mreturn\u001b[0m \u001b[0mresult\u001b[0m\u001b[1;33m\u001b[0m\u001b[1;33m\u001b[0m\u001b[0m\n",
      "\u001b[1;31mZeroDivisionError\u001b[0m: division by zero"
     ]
    }
   ],
   "source": [
    "a = Fourcal(4, 0)\n",
    "a.div()"
   ]
  },
  {
   "cell_type": "code",
   "execution_count": 49,
   "id": "63c77d3d",
   "metadata": {},
   "outputs": [],
   "source": [
    "class SafeFourCal(Fourcal):\n",
    "    def div(self):\n",
    "        if self.second == 0:\n",
    "            return 0\n",
    "        else:\n",
    "            return self.first / self.second"
   ]
  },
  {
   "cell_type": "code",
   "execution_count": 50,
   "id": "ffd376d3",
   "metadata": {},
   "outputs": [
    {
     "data": {
      "text/plain": [
       "0"
      ]
     },
     "execution_count": 50,
     "metadata": {},
     "output_type": "execute_result"
    }
   ],
   "source": [
    "a = SafeFourCal(4,0)\n",
    "a.div()"
   ]
  },
  {
   "cell_type": "markdown",
   "id": "d327c751",
   "metadata": {},
   "source": [
    "### 클래스 변수"
   ]
  },
  {
   "cell_type": "code",
   "execution_count": 51,
   "id": "3480ed3d",
   "metadata": {},
   "outputs": [],
   "source": [
    "class Family:\n",
    "    lastname = '김'"
   ]
  },
  {
   "cell_type": "code",
   "execution_count": 52,
   "id": "f58b6545",
   "metadata": {},
   "outputs": [
    {
     "name": "stdout",
     "output_type": "stream",
     "text": [
      "김\n"
     ]
    }
   ],
   "source": [
    "print(Family.lastname)"
   ]
  },
  {
   "cell_type": "code",
   "execution_count": 53,
   "id": "f28144b5",
   "metadata": {},
   "outputs": [
    {
     "name": "stdout",
     "output_type": "stream",
     "text": [
      "김\n",
      "김\n"
     ]
    }
   ],
   "source": [
    "a = Family()\n",
    "b = Family()\n",
    "print(a.lastname)\n",
    "print(b.lastname)"
   ]
  },
  {
   "cell_type": "code",
   "execution_count": 54,
   "id": "90b7b9a2",
   "metadata": {},
   "outputs": [],
   "source": [
    "Family.lastname = '박'"
   ]
  },
  {
   "cell_type": "code",
   "execution_count": 55,
   "id": "cc144770",
   "metadata": {},
   "outputs": [
    {
     "name": "stdout",
     "output_type": "stream",
     "text": [
      "박\n",
      "박\n"
     ]
    }
   ],
   "source": [
    "print(a.lastname)\n",
    "print(b.lastname)"
   ]
  },
  {
   "cell_type": "code",
   "execution_count": 57,
   "id": "496e1c6d",
   "metadata": {},
   "outputs": [
    {
     "data": {
      "text/plain": [
       "1354787145648"
      ]
     },
     "execution_count": 57,
     "metadata": {},
     "output_type": "execute_result"
    }
   ],
   "source": [
    "id(Family.lastname)"
   ]
  },
  {
   "cell_type": "code",
   "execution_count": 58,
   "id": "8b14ac69",
   "metadata": {},
   "outputs": [
    {
     "data": {
      "text/plain": [
       "1354787145648"
      ]
     },
     "execution_count": 58,
     "metadata": {},
     "output_type": "execute_result"
    }
   ],
   "source": [
    "id(a.lastname)"
   ]
  },
  {
   "cell_type": "code",
   "execution_count": 59,
   "id": "a95750aa",
   "metadata": {},
   "outputs": [
    {
     "data": {
      "text/plain": [
       "1354787145648"
      ]
     },
     "execution_count": 59,
     "metadata": {},
     "output_type": "execute_result"
    }
   ],
   "source": [
    "id(b.lastname)"
   ]
  },
  {
   "cell_type": "markdown",
   "id": "e751e9d5",
   "metadata": {},
   "source": [
    "# 05-2 모듈"
   ]
  },
  {
   "cell_type": "markdown",
   "id": "7e320caf",
   "metadata": {},
   "source": [
    "## (별도 작성)"
   ]
  },
  {
   "cell_type": "markdown",
   "id": "5f48d60a",
   "metadata": {},
   "source": [
    "### 모듈 만들기"
   ]
  },
  {
   "cell_type": "markdown",
   "id": "d86dc8d3",
   "metadata": {},
   "source": [
    "### 모듈 불러오기"
   ]
  },
  {
   "cell_type": "markdown",
   "id": "caa4d2b3",
   "metadata": {},
   "source": [
    "### if __name__ == '__main__'의 의미"
   ]
  },
  {
   "cell_type": "markdown",
   "id": "c54bbd02",
   "metadata": {},
   "source": [
    "### 클래스나 변수 등을 포함한 모듈"
   ]
  },
  {
   "cell_type": "markdown",
   "id": "785ad8e4",
   "metadata": {},
   "source": [
    "### 다른 파일에서 모듈 불러오기"
   ]
  },
  {
   "cell_type": "markdown",
   "id": "ca341371",
   "metadata": {},
   "source": [
    "# 05-3 패키지"
   ]
  },
  {
   "cell_type": "markdown",
   "id": "d98446a4",
   "metadata": {},
   "source": [
    "## (별도 작성)"
   ]
  },
  {
   "cell_type": "markdown",
   "id": "c737bc09",
   "metadata": {},
   "source": [
    "### 패키지란 무엇인가?"
   ]
  },
  {
   "cell_type": "markdown",
   "id": "bc39dc08",
   "metadata": {},
   "source": [
    "### 패키지 만들기 "
   ]
  },
  {
   "cell_type": "markdown",
   "id": "3f721edd",
   "metadata": {},
   "source": [
    "### 패키지 안의 함수 실행하기"
   ]
  },
  {
   "cell_type": "markdown",
   "id": "ba15d13f",
   "metadata": {},
   "source": [
    "### __init__.py의 용도"
   ]
  },
  {
   "cell_type": "markdown",
   "id": "c35b8302",
   "metadata": {},
   "source": [
    "### relative 패키지"
   ]
  }
 ],
 "metadata": {
  "kernelspec": {
   "display_name": "pytorch",
   "language": "python",
   "name": "pt1.1"
  },
  "language_info": {
   "codemirror_mode": {
    "name": "ipython",
    "version": 3
   },
   "file_extension": ".py",
   "mimetype": "text/x-python",
   "name": "python",
   "nbconvert_exporter": "python",
   "pygments_lexer": "ipython3",
   "version": "3.9.7"
  }
 },
 "nbformat": 4,
 "nbformat_minor": 5
}
